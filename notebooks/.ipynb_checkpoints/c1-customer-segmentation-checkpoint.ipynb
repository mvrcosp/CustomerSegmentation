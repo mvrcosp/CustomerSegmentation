{
 "cells": [
  {
   "cell_type": "markdown",
   "metadata": {
    "id": "iUlQdISQgXNz"
   },
   "source": [
    "# 0.0 Customer Segmentation & Clusters Analysis "
   ]
  },
  {
   "cell_type": "markdown",
   "metadata": {
    "id": "VnjjpGK6iTwu"
   },
   "source": [
    "## 0.1 Imports"
   ]
  },
  {
   "cell_type": "code",
   "execution_count": 30,
   "metadata": {
    "ExecuteTime": {
     "end_time": "2022-02-19T22:28:29.104363Z",
     "start_time": "2022-02-19T22:28:29.097684Z"
    },
    "executionInfo": {
     "elapsed": 866,
     "status": "ok",
     "timestamp": 1642797178499,
     "user": {
      "displayName": "Marcos Poleto",
      "photoUrl": "https://lh3.googleusercontent.com/a/default-user=s64",
      "userId": "02025685955293709320"
     },
     "user_tz": 180
    },
    "id": "4dSEO56drl-B"
   },
   "outputs": [],
   "source": [
    "import pandas as pd\n",
    "import matplotlib.pyplot as plt\n",
    "import seaborn as sns\n",
    "from IPython.core.display import HTML\n",
    "\n",
    "from sklearn import cluster       as c\n",
    "from sklearn import metrics       as m\n",
    "from sklearn import preprocessing as pp"
   ]
  },
  {
   "cell_type": "markdown",
   "metadata": {
    "id": "XhG6ZdvqCfBY"
   },
   "source": [
    "## 0.2 Helper Functions"
   ]
  },
  {
   "cell_type": "code",
   "execution_count": 31,
   "metadata": {
    "ExecuteTime": {
     "end_time": "2022-02-19T22:28:29.444649Z",
     "start_time": "2022-02-19T22:28:29.434980Z"
    },
    "executionInfo": {
     "elapsed": 14,
     "status": "ok",
     "timestamp": 1642797178500,
     "user": {
      "displayName": "Marcos Poleto",
      "photoUrl": "https://lh3.googleusercontent.com/a/default-user=s64",
      "userId": "02025685955293709320"
     },
     "user_tz": 180
    },
    "id": "CuHl4kkszj-9"
   },
   "outputs": [],
   "source": [
    "def jupyter_settings():\n",
    "    %matplotlib inline\n",
    "    \n",
    "    plt.style.use( 'bmh' )\n",
    "    plt.rcParams['figure.figsize'] = [25, 12]\n",
    "    plt.rcParams['font.size'] = 24\n",
    "    \n",
    "    display( HTML( '<style>.container { width:100% !important; }</style>') )\n",
    "    pd.options.display.max_columns = None\n",
    "    pd.options.display.max_rows = None\n",
    "    pd.set_option( 'display.expand_frame_repr', False )\n",
    "    \n",
    "    sns.set()"
   ]
  },
  {
   "cell_type": "code",
   "execution_count": 32,
   "metadata": {
    "ExecuteTime": {
     "end_time": "2022-02-19T22:28:29.609267Z",
     "start_time": "2022-02-19T22:28:29.598499Z"
    },
    "colab": {
     "base_uri": "https://localhost:8080/",
     "height": 34
    },
    "executionInfo": {
     "elapsed": 15,
     "status": "ok",
     "timestamp": 1642797178502,
     "user": {
      "displayName": "Marcos Poleto",
      "photoUrl": "https://lh3.googleusercontent.com/a/default-user=s64",
      "userId": "02025685955293709320"
     },
     "user_tz": 180
    },
    "id": "nGvP6UBgzpof",
    "outputId": "6f68f4b7-d5a2-46db-e475-e2b4e6253848"
   },
   "outputs": [
    {
     "data": {
      "text/html": [
       "<style>.container { width:100% !important; }</style>"
      ],
      "text/plain": [
       "<IPython.core.display.HTML object>"
      ]
     },
     "metadata": {},
     "output_type": "display_data"
    }
   ],
   "source": [
    "jupyter_settings()"
   ]
  },
  {
   "cell_type": "markdown",
   "metadata": {
    "id": "RuQ3RtNfiYHp"
   },
   "source": [
    "## 0.3 Loading Data"
   ]
  },
  {
   "cell_type": "code",
   "execution_count": 33,
   "metadata": {
    "ExecuteTime": {
     "end_time": "2022-02-19T22:28:29.929891Z",
     "start_time": "2022-02-19T22:28:29.909288Z"
    },
    "executionInfo": {
     "elapsed": 514,
     "status": "ok",
     "timestamp": 1642797179006,
     "user": {
      "displayName": "Marcos Poleto",
      "photoUrl": "https://lh3.googleusercontent.com/a/default-user=s64",
      "userId": "02025685955293709320"
     },
     "user_tz": 180
    },
    "id": "_3KPuTdNrsi8"
   },
   "outputs": [],
   "source": [
    "url = \"/home/mvrcosp/repos/CustomerSegmentation/data/raw/marketing_campaign.csv\"\n",
    "\n",
    "dfraw = pd.read_csv(url, sep='\\t')"
   ]
  },
  {
   "cell_type": "markdown",
   "metadata": {
    "id": "6DW39YX66rla"
   },
   "source": [
    "## 0.4 Data Dictionary"
   ]
  },
  {
   "cell_type": "markdown",
   "metadata": {
    "id": "jLjmq5eFkKX3"
   },
   "source": [
    "## Attributes\n",
    "\n",
    "### People\n",
    "\n",
    "**ID:** Customer's unique identifier\n",
    "\n",
    "**Year_Birth:** Customer's birth year\n",
    "\n",
    "**Education:** Customer's education level\n",
    "\n",
    "**Marital_Status:** Customer's marital status\n",
    "\n",
    "**Income:** Customer's yearly household income\n",
    "\n",
    "**Kidhome:** Number of children in customer's household\n",
    "\n",
    "**Teenhome:** Number of teenagers in customer's household\n",
    "\n",
    "**Dt_Customer:** Date of customer's enrollment with the company\n",
    "\n",
    "**Recency:** Number of days since customer's last purchase\n",
    "\n",
    "**Complain:** 1 if the customer complained in the last 2 years, 0 otherwise\n",
    "\n",
    "### Products\n",
    "\n",
    "**MntWines:** Amount spent on wine in last 2 years\n",
    "\n",
    "**MntFruits:** Amount spent on fruits in last 2 years\n",
    "\n",
    "**MntMeatProducts:** Amount spent on meat in last 2 years\n",
    "\n",
    "**MntFishProducts:** Amount spent on fish in last 2 years\n",
    "\n",
    "**MntSweetProducts:** Amount spent on sweets in last 2 years\n",
    "\n",
    "**MntGoldProds:** Amount spent on gold in last 2 years\n",
    "\n",
    "### Promotion\n",
    "\n",
    "**NumDealsPurchases:** Number of purchases made with a discount\n",
    "\n",
    "**AcceptedCmp1:** 1 if customer accepted the offer in the 1st campaign, 0 otherwise\n",
    "\n",
    "**AcceptedCmp2:** 1 if customer accepted the offer in the 2nd campaign, 0 otherwise\n",
    "\n",
    "**AcceptedCmp3:** 1 if customer accepted the offer in the 3rd campaign, 0 otherwise\n",
    "\n",
    "**AcceptedCmp4:** 1 if customer accepted the offer in the 4th campaign, 0 otherwise\n",
    "\n",
    "**AcceptedCmp5:** 1 if customer accepted the offer in the 5th campaign, 0 otherwise\n",
    "\n",
    "**Response:** 1 if customer accepted the offer in the last campaign, 0 otherwise\n",
    "\n",
    "### Place\n",
    "\n",
    "**NumWebPurchases:** Number of purchases made through the company’s website\n",
    "\n",
    "**NumCatalogPurchases:** Number of purchases made using a catalogue\n",
    "\n",
    "**NumStorePurchases:** Number of purchases made directly in stores\n",
    "\n",
    "**NumWebVisitsMonth:** Number of visits to company’s website in the last month"
   ]
  },
  {
   "cell_type": "markdown",
   "metadata": {
    "id": "TynYehwIlwaJ"
   },
   "source": [
    "# 1.0 First Glimpse at Data"
   ]
  },
  {
   "cell_type": "code",
   "execution_count": 34,
   "metadata": {
    "ExecuteTime": {
     "end_time": "2022-02-19T22:28:30.584054Z",
     "start_time": "2022-02-19T22:28:30.577141Z"
    },
    "colab": {
     "base_uri": "https://localhost:8080/"
    },
    "executionInfo": {
     "elapsed": 44,
     "status": "ok",
     "timestamp": 1642797179007,
     "user": {
      "displayName": "Marcos Poleto",
      "photoUrl": "https://lh3.googleusercontent.com/a/default-user=s64",
      "userId": "02025685955293709320"
     },
     "user_tz": 180
    },
    "id": "sNcG7qsaml87",
    "outputId": "3522248f-6779-4bb4-e134-aa31552d1c2c"
   },
   "outputs": [
    {
     "data": {
      "text/plain": [
       "(2240, 29)"
      ]
     },
     "execution_count": 34,
     "metadata": {},
     "output_type": "execute_result"
    }
   ],
   "source": [
    "dfraw.shape"
   ]
  },
  {
   "cell_type": "code",
   "execution_count": 35,
   "metadata": {
    "ExecuteTime": {
     "end_time": "2022-02-19T22:28:30.772122Z",
     "start_time": "2022-02-19T22:28:30.747099Z"
    },
    "colab": {
     "base_uri": "https://localhost:8080/",
     "height": 740
    },
    "executionInfo": {
     "elapsed": 40,
     "status": "ok",
     "timestamp": 1642797179007,
     "user": {
      "displayName": "Marcos Poleto",
      "photoUrl": "https://lh3.googleusercontent.com/a/default-user=s64",
      "userId": "02025685955293709320"
     },
     "user_tz": 180
    },
    "id": "BPl_RtO_mgfR",
    "outputId": "d38aed12-238b-4f7c-c330-3952ce773211"
   },
   "outputs": [
    {
     "data": {
      "text/html": [
       "<div>\n",
       "<style scoped>\n",
       "    .dataframe tbody tr th:only-of-type {\n",
       "        vertical-align: middle;\n",
       "    }\n",
       "\n",
       "    .dataframe tbody tr th {\n",
       "        vertical-align: top;\n",
       "    }\n",
       "\n",
       "    .dataframe thead th {\n",
       "        text-align: right;\n",
       "    }\n",
       "</style>\n",
       "<table border=\"1\" class=\"dataframe\">\n",
       "  <thead>\n",
       "    <tr style=\"text-align: right;\">\n",
       "      <th></th>\n",
       "      <th>ID</th>\n",
       "      <th>Year_Birth</th>\n",
       "      <th>Education</th>\n",
       "      <th>Marital_Status</th>\n",
       "      <th>Income</th>\n",
       "      <th>Kidhome</th>\n",
       "      <th>Teenhome</th>\n",
       "      <th>Dt_Customer</th>\n",
       "      <th>Recency</th>\n",
       "      <th>MntWines</th>\n",
       "      <th>MntFruits</th>\n",
       "      <th>MntMeatProducts</th>\n",
       "      <th>MntFishProducts</th>\n",
       "      <th>MntSweetProducts</th>\n",
       "      <th>MntGoldProds</th>\n",
       "      <th>NumDealsPurchases</th>\n",
       "      <th>NumWebPurchases</th>\n",
       "      <th>NumCatalogPurchases</th>\n",
       "      <th>NumStorePurchases</th>\n",
       "      <th>NumWebVisitsMonth</th>\n",
       "      <th>AcceptedCmp3</th>\n",
       "      <th>AcceptedCmp4</th>\n",
       "      <th>AcceptedCmp5</th>\n",
       "      <th>AcceptedCmp1</th>\n",
       "      <th>AcceptedCmp2</th>\n",
       "      <th>Complain</th>\n",
       "      <th>Z_CostContact</th>\n",
       "      <th>Z_Revenue</th>\n",
       "      <th>Response</th>\n",
       "    </tr>\n",
       "  </thead>\n",
       "  <tbody>\n",
       "    <tr>\n",
       "      <th>940</th>\n",
       "      <td>8957</td>\n",
       "      <td>1952</td>\n",
       "      <td>2n Cycle</td>\n",
       "      <td>Single</td>\n",
       "      <td>64831.0</td>\n",
       "      <td>1</td>\n",
       "      <td>1</td>\n",
       "      <td>10-06-2013</td>\n",
       "      <td>51</td>\n",
       "      <td>480</td>\n",
       "      <td>86</td>\n",
       "      <td>249</td>\n",
       "      <td>75</td>\n",
       "      <td>86</td>\n",
       "      <td>144</td>\n",
       "      <td>8</td>\n",
       "      <td>6</td>\n",
       "      <td>3</td>\n",
       "      <td>5</td>\n",
       "      <td>6</td>\n",
       "      <td>0</td>\n",
       "      <td>0</td>\n",
       "      <td>0</td>\n",
       "      <td>0</td>\n",
       "      <td>0</td>\n",
       "      <td>0</td>\n",
       "      <td>3</td>\n",
       "      <td>11</td>\n",
       "      <td>0</td>\n",
       "    </tr>\n",
       "    <tr>\n",
       "      <th>2007</th>\n",
       "      <td>405</td>\n",
       "      <td>1964</td>\n",
       "      <td>Graduation</td>\n",
       "      <td>Divorced</td>\n",
       "      <td>41638.0</td>\n",
       "      <td>0</td>\n",
       "      <td>1</td>\n",
       "      <td>13-02-2013</td>\n",
       "      <td>68</td>\n",
       "      <td>315</td>\n",
       "      <td>0</td>\n",
       "      <td>31</td>\n",
       "      <td>4</td>\n",
       "      <td>0</td>\n",
       "      <td>91</td>\n",
       "      <td>4</td>\n",
       "      <td>5</td>\n",
       "      <td>5</td>\n",
       "      <td>3</td>\n",
       "      <td>8</td>\n",
       "      <td>1</td>\n",
       "      <td>0</td>\n",
       "      <td>0</td>\n",
       "      <td>0</td>\n",
       "      <td>0</td>\n",
       "      <td>0</td>\n",
       "      <td>3</td>\n",
       "      <td>11</td>\n",
       "      <td>0</td>\n",
       "    </tr>\n",
       "    <tr>\n",
       "      <th>1562</th>\n",
       "      <td>9530</td>\n",
       "      <td>1988</td>\n",
       "      <td>Graduation</td>\n",
       "      <td>Married</td>\n",
       "      <td>24645.0</td>\n",
       "      <td>1</td>\n",
       "      <td>0</td>\n",
       "      <td>01-11-2012</td>\n",
       "      <td>16</td>\n",
       "      <td>5</td>\n",
       "      <td>3</td>\n",
       "      <td>4</td>\n",
       "      <td>4</td>\n",
       "      <td>1</td>\n",
       "      <td>0</td>\n",
       "      <td>1</td>\n",
       "      <td>1</td>\n",
       "      <td>0</td>\n",
       "      <td>2</td>\n",
       "      <td>8</td>\n",
       "      <td>0</td>\n",
       "      <td>0</td>\n",
       "      <td>0</td>\n",
       "      <td>0</td>\n",
       "      <td>0</td>\n",
       "      <td>0</td>\n",
       "      <td>3</td>\n",
       "      <td>11</td>\n",
       "      <td>0</td>\n",
       "    </tr>\n",
       "    <tr>\n",
       "      <th>369</th>\n",
       "      <td>2928</td>\n",
       "      <td>1975</td>\n",
       "      <td>PhD</td>\n",
       "      <td>Single</td>\n",
       "      <td>52614.0</td>\n",
       "      <td>0</td>\n",
       "      <td>1</td>\n",
       "      <td>01-12-2012</td>\n",
       "      <td>63</td>\n",
       "      <td>789</td>\n",
       "      <td>0</td>\n",
       "      <td>142</td>\n",
       "      <td>12</td>\n",
       "      <td>9</td>\n",
       "      <td>38</td>\n",
       "      <td>2</td>\n",
       "      <td>2</td>\n",
       "      <td>4</td>\n",
       "      <td>8</td>\n",
       "      <td>8</td>\n",
       "      <td>0</td>\n",
       "      <td>0</td>\n",
       "      <td>0</td>\n",
       "      <td>0</td>\n",
       "      <td>0</td>\n",
       "      <td>0</td>\n",
       "      <td>3</td>\n",
       "      <td>11</td>\n",
       "      <td>0</td>\n",
       "    </tr>\n",
       "    <tr>\n",
       "      <th>1223</th>\n",
       "      <td>938</td>\n",
       "      <td>1981</td>\n",
       "      <td>Graduation</td>\n",
       "      <td>Married</td>\n",
       "      <td>40211.0</td>\n",
       "      <td>1</td>\n",
       "      <td>1</td>\n",
       "      <td>30-07-2013</td>\n",
       "      <td>30</td>\n",
       "      <td>51</td>\n",
       "      <td>1</td>\n",
       "      <td>7</td>\n",
       "      <td>2</td>\n",
       "      <td>1</td>\n",
       "      <td>25</td>\n",
       "      <td>2</td>\n",
       "      <td>2</td>\n",
       "      <td>1</td>\n",
       "      <td>2</td>\n",
       "      <td>8</td>\n",
       "      <td>1</td>\n",
       "      <td>0</td>\n",
       "      <td>0</td>\n",
       "      <td>0</td>\n",
       "      <td>0</td>\n",
       "      <td>0</td>\n",
       "      <td>3</td>\n",
       "      <td>11</td>\n",
       "      <td>0</td>\n",
       "    </tr>\n",
       "    <tr>\n",
       "      <th>1006</th>\n",
       "      <td>8952</td>\n",
       "      <td>1953</td>\n",
       "      <td>Master</td>\n",
       "      <td>Married</td>\n",
       "      <td>65569.0</td>\n",
       "      <td>0</td>\n",
       "      <td>1</td>\n",
       "      <td>05-11-2012</td>\n",
       "      <td>96</td>\n",
       "      <td>397</td>\n",
       "      <td>46</td>\n",
       "      <td>288</td>\n",
       "      <td>20</td>\n",
       "      <td>38</td>\n",
       "      <td>70</td>\n",
       "      <td>2</td>\n",
       "      <td>6</td>\n",
       "      <td>5</td>\n",
       "      <td>10</td>\n",
       "      <td>3</td>\n",
       "      <td>0</td>\n",
       "      <td>0</td>\n",
       "      <td>0</td>\n",
       "      <td>0</td>\n",
       "      <td>0</td>\n",
       "      <td>0</td>\n",
       "      <td>3</td>\n",
       "      <td>11</td>\n",
       "      <td>0</td>\n",
       "    </tr>\n",
       "    <tr>\n",
       "      <th>523</th>\n",
       "      <td>4943</td>\n",
       "      <td>1953</td>\n",
       "      <td>Graduation</td>\n",
       "      <td>Married</td>\n",
       "      <td>70503.0</td>\n",
       "      <td>0</td>\n",
       "      <td>0</td>\n",
       "      <td>30-09-2012</td>\n",
       "      <td>73</td>\n",
       "      <td>1379</td>\n",
       "      <td>33</td>\n",
       "      <td>216</td>\n",
       "      <td>0</td>\n",
       "      <td>33</td>\n",
       "      <td>66</td>\n",
       "      <td>1</td>\n",
       "      <td>2</td>\n",
       "      <td>4</td>\n",
       "      <td>9</td>\n",
       "      <td>6</td>\n",
       "      <td>0</td>\n",
       "      <td>1</td>\n",
       "      <td>1</td>\n",
       "      <td>0</td>\n",
       "      <td>0</td>\n",
       "      <td>0</td>\n",
       "      <td>3</td>\n",
       "      <td>11</td>\n",
       "      <td>0</td>\n",
       "    </tr>\n",
       "    <tr>\n",
       "      <th>1265</th>\n",
       "      <td>3910</td>\n",
       "      <td>1975</td>\n",
       "      <td>Graduation</td>\n",
       "      <td>Divorced</td>\n",
       "      <td>83829.0</td>\n",
       "      <td>0</td>\n",
       "      <td>0</td>\n",
       "      <td>08-10-2013</td>\n",
       "      <td>78</td>\n",
       "      <td>897</td>\n",
       "      <td>161</td>\n",
       "      <td>430</td>\n",
       "      <td>186</td>\n",
       "      <td>161</td>\n",
       "      <td>27</td>\n",
       "      <td>0</td>\n",
       "      <td>4</td>\n",
       "      <td>7</td>\n",
       "      <td>6</td>\n",
       "      <td>1</td>\n",
       "      <td>1</td>\n",
       "      <td>0</td>\n",
       "      <td>1</td>\n",
       "      <td>1</td>\n",
       "      <td>0</td>\n",
       "      <td>0</td>\n",
       "      <td>3</td>\n",
       "      <td>11</td>\n",
       "      <td>1</td>\n",
       "    </tr>\n",
       "    <tr>\n",
       "      <th>1984</th>\n",
       "      <td>1406</td>\n",
       "      <td>1975</td>\n",
       "      <td>Graduation</td>\n",
       "      <td>Single</td>\n",
       "      <td>53201.0</td>\n",
       "      <td>1</td>\n",
       "      <td>1</td>\n",
       "      <td>12-02-2013</td>\n",
       "      <td>49</td>\n",
       "      <td>280</td>\n",
       "      <td>7</td>\n",
       "      <td>81</td>\n",
       "      <td>20</td>\n",
       "      <td>0</td>\n",
       "      <td>27</td>\n",
       "      <td>8</td>\n",
       "      <td>6</td>\n",
       "      <td>3</td>\n",
       "      <td>5</td>\n",
       "      <td>7</td>\n",
       "      <td>0</td>\n",
       "      <td>0</td>\n",
       "      <td>0</td>\n",
       "      <td>0</td>\n",
       "      <td>0</td>\n",
       "      <td>0</td>\n",
       "      <td>3</td>\n",
       "      <td>11</td>\n",
       "      <td>0</td>\n",
       "    </tr>\n",
       "    <tr>\n",
       "      <th>484</th>\n",
       "      <td>9286</td>\n",
       "      <td>1960</td>\n",
       "      <td>Master</td>\n",
       "      <td>Together</td>\n",
       "      <td>83151.0</td>\n",
       "      <td>0</td>\n",
       "      <td>0</td>\n",
       "      <td>10-10-2012</td>\n",
       "      <td>93</td>\n",
       "      <td>407</td>\n",
       "      <td>28</td>\n",
       "      <td>100</td>\n",
       "      <td>120</td>\n",
       "      <td>74</td>\n",
       "      <td>18</td>\n",
       "      <td>1</td>\n",
       "      <td>5</td>\n",
       "      <td>9</td>\n",
       "      <td>4</td>\n",
       "      <td>3</td>\n",
       "      <td>0</td>\n",
       "      <td>0</td>\n",
       "      <td>0</td>\n",
       "      <td>0</td>\n",
       "      <td>0</td>\n",
       "      <td>0</td>\n",
       "      <td>3</td>\n",
       "      <td>11</td>\n",
       "      <td>0</td>\n",
       "    </tr>\n",
       "    <tr>\n",
       "      <th>173</th>\n",
       "      <td>1880</td>\n",
       "      <td>1959</td>\n",
       "      <td>PhD</td>\n",
       "      <td>Together</td>\n",
       "      <td>53537.0</td>\n",
       "      <td>1</td>\n",
       "      <td>1</td>\n",
       "      <td>30-01-2014</td>\n",
       "      <td>17</td>\n",
       "      <td>81</td>\n",
       "      <td>0</td>\n",
       "      <td>6</td>\n",
       "      <td>0</td>\n",
       "      <td>0</td>\n",
       "      <td>6</td>\n",
       "      <td>2</td>\n",
       "      <td>2</td>\n",
       "      <td>1</td>\n",
       "      <td>3</td>\n",
       "      <td>5</td>\n",
       "      <td>0</td>\n",
       "      <td>0</td>\n",
       "      <td>0</td>\n",
       "      <td>0</td>\n",
       "      <td>0</td>\n",
       "      <td>0</td>\n",
       "      <td>3</td>\n",
       "      <td>11</td>\n",
       "      <td>0</td>\n",
       "    </tr>\n",
       "    <tr>\n",
       "      <th>2141</th>\n",
       "      <td>9216</td>\n",
       "      <td>1971</td>\n",
       "      <td>Graduation</td>\n",
       "      <td>Married</td>\n",
       "      <td>35788.0</td>\n",
       "      <td>1</td>\n",
       "      <td>1</td>\n",
       "      <td>23-01-2014</td>\n",
       "      <td>34</td>\n",
       "      <td>23</td>\n",
       "      <td>2</td>\n",
       "      <td>11</td>\n",
       "      <td>3</td>\n",
       "      <td>1</td>\n",
       "      <td>4</td>\n",
       "      <td>2</td>\n",
       "      <td>2</td>\n",
       "      <td>0</td>\n",
       "      <td>3</td>\n",
       "      <td>6</td>\n",
       "      <td>0</td>\n",
       "      <td>0</td>\n",
       "      <td>0</td>\n",
       "      <td>0</td>\n",
       "      <td>0</td>\n",
       "      <td>0</td>\n",
       "      <td>3</td>\n",
       "      <td>11</td>\n",
       "      <td>0</td>\n",
       "    </tr>\n",
       "    <tr>\n",
       "      <th>1838</th>\n",
       "      <td>9847</td>\n",
       "      <td>1955</td>\n",
       "      <td>2n Cycle</td>\n",
       "      <td>Married</td>\n",
       "      <td>62972.0</td>\n",
       "      <td>0</td>\n",
       "      <td>1</td>\n",
       "      <td>03-08-2012</td>\n",
       "      <td>39</td>\n",
       "      <td>313</td>\n",
       "      <td>15</td>\n",
       "      <td>47</td>\n",
       "      <td>20</td>\n",
       "      <td>0</td>\n",
       "      <td>192</td>\n",
       "      <td>2</td>\n",
       "      <td>7</td>\n",
       "      <td>4</td>\n",
       "      <td>3</td>\n",
       "      <td>6</td>\n",
       "      <td>0</td>\n",
       "      <td>0</td>\n",
       "      <td>0</td>\n",
       "      <td>0</td>\n",
       "      <td>0</td>\n",
       "      <td>0</td>\n",
       "      <td>3</td>\n",
       "      <td>11</td>\n",
       "      <td>0</td>\n",
       "    </tr>\n",
       "    <tr>\n",
       "      <th>336</th>\n",
       "      <td>7381</td>\n",
       "      <td>1968</td>\n",
       "      <td>Graduation</td>\n",
       "      <td>Divorced</td>\n",
       "      <td>75693.0</td>\n",
       "      <td>0</td>\n",
       "      <td>0</td>\n",
       "      <td>06-12-2012</td>\n",
       "      <td>10</td>\n",
       "      <td>797</td>\n",
       "      <td>153</td>\n",
       "      <td>293</td>\n",
       "      <td>72</td>\n",
       "      <td>97</td>\n",
       "      <td>30</td>\n",
       "      <td>1</td>\n",
       "      <td>11</td>\n",
       "      <td>4</td>\n",
       "      <td>6</td>\n",
       "      <td>4</td>\n",
       "      <td>0</td>\n",
       "      <td>1</td>\n",
       "      <td>1</td>\n",
       "      <td>1</td>\n",
       "      <td>0</td>\n",
       "      <td>0</td>\n",
       "      <td>3</td>\n",
       "      <td>11</td>\n",
       "      <td>1</td>\n",
       "    </tr>\n",
       "    <tr>\n",
       "      <th>214</th>\n",
       "      <td>0</td>\n",
       "      <td>1985</td>\n",
       "      <td>Graduation</td>\n",
       "      <td>Married</td>\n",
       "      <td>70951.0</td>\n",
       "      <td>0</td>\n",
       "      <td>0</td>\n",
       "      <td>04-05-2013</td>\n",
       "      <td>66</td>\n",
       "      <td>239</td>\n",
       "      <td>10</td>\n",
       "      <td>554</td>\n",
       "      <td>254</td>\n",
       "      <td>87</td>\n",
       "      <td>54</td>\n",
       "      <td>1</td>\n",
       "      <td>3</td>\n",
       "      <td>4</td>\n",
       "      <td>9</td>\n",
       "      <td>1</td>\n",
       "      <td>0</td>\n",
       "      <td>0</td>\n",
       "      <td>0</td>\n",
       "      <td>0</td>\n",
       "      <td>0</td>\n",
       "      <td>0</td>\n",
       "      <td>3</td>\n",
       "      <td>11</td>\n",
       "      <td>0</td>\n",
       "    </tr>\n",
       "    <tr>\n",
       "      <th>1078</th>\n",
       "      <td>10855</td>\n",
       "      <td>1968</td>\n",
       "      <td>Master</td>\n",
       "      <td>Single</td>\n",
       "      <td>50014.0</td>\n",
       "      <td>1</td>\n",
       "      <td>0</td>\n",
       "      <td>22-01-2014</td>\n",
       "      <td>9</td>\n",
       "      <td>234</td>\n",
       "      <td>14</td>\n",
       "      <td>77</td>\n",
       "      <td>19</td>\n",
       "      <td>10</td>\n",
       "      <td>42</td>\n",
       "      <td>2</td>\n",
       "      <td>4</td>\n",
       "      <td>1</td>\n",
       "      <td>8</td>\n",
       "      <td>5</td>\n",
       "      <td>0</td>\n",
       "      <td>0</td>\n",
       "      <td>0</td>\n",
       "      <td>0</td>\n",
       "      <td>0</td>\n",
       "      <td>0</td>\n",
       "      <td>3</td>\n",
       "      <td>11</td>\n",
       "      <td>0</td>\n",
       "    </tr>\n",
       "    <tr>\n",
       "      <th>362</th>\n",
       "      <td>2958</td>\n",
       "      <td>1978</td>\n",
       "      <td>Graduation</td>\n",
       "      <td>Married</td>\n",
       "      <td>28442.0</td>\n",
       "      <td>2</td>\n",
       "      <td>0</td>\n",
       "      <td>24-02-2014</td>\n",
       "      <td>53</td>\n",
       "      <td>19</td>\n",
       "      <td>3</td>\n",
       "      <td>10</td>\n",
       "      <td>11</td>\n",
       "      <td>8</td>\n",
       "      <td>6</td>\n",
       "      <td>3</td>\n",
       "      <td>2</td>\n",
       "      <td>1</td>\n",
       "      <td>4</td>\n",
       "      <td>4</td>\n",
       "      <td>0</td>\n",
       "      <td>0</td>\n",
       "      <td>0</td>\n",
       "      <td>0</td>\n",
       "      <td>0</td>\n",
       "      <td>0</td>\n",
       "      <td>3</td>\n",
       "      <td>11</td>\n",
       "      <td>0</td>\n",
       "    </tr>\n",
       "    <tr>\n",
       "      <th>2167</th>\n",
       "      <td>3520</td>\n",
       "      <td>1990</td>\n",
       "      <td>Master</td>\n",
       "      <td>Single</td>\n",
       "      <td>91172.0</td>\n",
       "      <td>0</td>\n",
       "      <td>0</td>\n",
       "      <td>27-03-2013</td>\n",
       "      <td>94</td>\n",
       "      <td>162</td>\n",
       "      <td>28</td>\n",
       "      <td>818</td>\n",
       "      <td>0</td>\n",
       "      <td>28</td>\n",
       "      <td>56</td>\n",
       "      <td>0</td>\n",
       "      <td>4</td>\n",
       "      <td>3</td>\n",
       "      <td>7</td>\n",
       "      <td>3</td>\n",
       "      <td>1</td>\n",
       "      <td>0</td>\n",
       "      <td>1</td>\n",
       "      <td>1</td>\n",
       "      <td>1</td>\n",
       "      <td>0</td>\n",
       "      <td>3</td>\n",
       "      <td>11</td>\n",
       "      <td>1</td>\n",
       "    </tr>\n",
       "    <tr>\n",
       "      <th>2218</th>\n",
       "      <td>4838</td>\n",
       "      <td>1978</td>\n",
       "      <td>Graduation</td>\n",
       "      <td>Together</td>\n",
       "      <td>22775.0</td>\n",
       "      <td>1</td>\n",
       "      <td>0</td>\n",
       "      <td>19-06-2013</td>\n",
       "      <td>40</td>\n",
       "      <td>5</td>\n",
       "      <td>1</td>\n",
       "      <td>8</td>\n",
       "      <td>0</td>\n",
       "      <td>0</td>\n",
       "      <td>1</td>\n",
       "      <td>1</td>\n",
       "      <td>1</td>\n",
       "      <td>0</td>\n",
       "      <td>2</td>\n",
       "      <td>8</td>\n",
       "      <td>0</td>\n",
       "      <td>0</td>\n",
       "      <td>0</td>\n",
       "      <td>0</td>\n",
       "      <td>0</td>\n",
       "      <td>0</td>\n",
       "      <td>3</td>\n",
       "      <td>11</td>\n",
       "      <td>0</td>\n",
       "    </tr>\n",
       "    <tr>\n",
       "      <th>810</th>\n",
       "      <td>2964</td>\n",
       "      <td>1981</td>\n",
       "      <td>Graduation</td>\n",
       "      <td>Married</td>\n",
       "      <td>26872.0</td>\n",
       "      <td>0</td>\n",
       "      <td>0</td>\n",
       "      <td>16-10-2013</td>\n",
       "      <td>0</td>\n",
       "      <td>3</td>\n",
       "      <td>10</td>\n",
       "      <td>8</td>\n",
       "      <td>3</td>\n",
       "      <td>16</td>\n",
       "      <td>32</td>\n",
       "      <td>1</td>\n",
       "      <td>1</td>\n",
       "      <td>1</td>\n",
       "      <td>2</td>\n",
       "      <td>6</td>\n",
       "      <td>0</td>\n",
       "      <td>0</td>\n",
       "      <td>0</td>\n",
       "      <td>0</td>\n",
       "      <td>0</td>\n",
       "      <td>0</td>\n",
       "      <td>3</td>\n",
       "      <td>11</td>\n",
       "      <td>0</td>\n",
       "    </tr>\n",
       "  </tbody>\n",
       "</table>\n",
       "</div>"
      ],
      "text/plain": [
       "         ID  Year_Birth   Education Marital_Status   Income  Kidhome  Teenhome Dt_Customer  Recency  MntWines  MntFruits  MntMeatProducts  MntFishProducts  MntSweetProducts  MntGoldProds  NumDealsPurchases  NumWebPurchases  NumCatalogPurchases  NumStorePurchases  NumWebVisitsMonth  AcceptedCmp3  AcceptedCmp4  AcceptedCmp5  AcceptedCmp1  AcceptedCmp2  Complain  Z_CostContact  Z_Revenue  Response\n",
       "940    8957        1952    2n Cycle         Single  64831.0        1         1  10-06-2013       51       480         86              249               75                86           144                  8                6                    3                  5                  6             0             0             0             0             0         0              3         11         0\n",
       "2007    405        1964  Graduation       Divorced  41638.0        0         1  13-02-2013       68       315          0               31                4                 0            91                  4                5                    5                  3                  8             1             0             0             0             0         0              3         11         0\n",
       "1562   9530        1988  Graduation        Married  24645.0        1         0  01-11-2012       16         5          3                4                4                 1             0                  1                1                    0                  2                  8             0             0             0             0             0         0              3         11         0\n",
       "369    2928        1975         PhD         Single  52614.0        0         1  01-12-2012       63       789          0              142               12                 9            38                  2                2                    4                  8                  8             0             0             0             0             0         0              3         11         0\n",
       "1223    938        1981  Graduation        Married  40211.0        1         1  30-07-2013       30        51          1                7                2                 1            25                  2                2                    1                  2                  8             1             0             0             0             0         0              3         11         0\n",
       "1006   8952        1953      Master        Married  65569.0        0         1  05-11-2012       96       397         46              288               20                38            70                  2                6                    5                 10                  3             0             0             0             0             0         0              3         11         0\n",
       "523    4943        1953  Graduation        Married  70503.0        0         0  30-09-2012       73      1379         33              216                0                33            66                  1                2                    4                  9                  6             0             1             1             0             0         0              3         11         0\n",
       "1265   3910        1975  Graduation       Divorced  83829.0        0         0  08-10-2013       78       897        161              430              186               161            27                  0                4                    7                  6                  1             1             0             1             1             0         0              3         11         1\n",
       "1984   1406        1975  Graduation         Single  53201.0        1         1  12-02-2013       49       280          7               81               20                 0            27                  8                6                    3                  5                  7             0             0             0             0             0         0              3         11         0\n",
       "484    9286        1960      Master       Together  83151.0        0         0  10-10-2012       93       407         28              100              120                74            18                  1                5                    9                  4                  3             0             0             0             0             0         0              3         11         0\n",
       "173    1880        1959         PhD       Together  53537.0        1         1  30-01-2014       17        81          0                6                0                 0             6                  2                2                    1                  3                  5             0             0             0             0             0         0              3         11         0\n",
       "2141   9216        1971  Graduation        Married  35788.0        1         1  23-01-2014       34        23          2               11                3                 1             4                  2                2                    0                  3                  6             0             0             0             0             0         0              3         11         0\n",
       "1838   9847        1955    2n Cycle        Married  62972.0        0         1  03-08-2012       39       313         15               47               20                 0           192                  2                7                    4                  3                  6             0             0             0             0             0         0              3         11         0\n",
       "336    7381        1968  Graduation       Divorced  75693.0        0         0  06-12-2012       10       797        153              293               72                97            30                  1               11                    4                  6                  4             0             1             1             1             0         0              3         11         1\n",
       "214       0        1985  Graduation        Married  70951.0        0         0  04-05-2013       66       239         10              554              254                87            54                  1                3                    4                  9                  1             0             0             0             0             0         0              3         11         0\n",
       "1078  10855        1968      Master         Single  50014.0        1         0  22-01-2014        9       234         14               77               19                10            42                  2                4                    1                  8                  5             0             0             0             0             0         0              3         11         0\n",
       "362    2958        1978  Graduation        Married  28442.0        2         0  24-02-2014       53        19          3               10               11                 8             6                  3                2                    1                  4                  4             0             0             0             0             0         0              3         11         0\n",
       "2167   3520        1990      Master         Single  91172.0        0         0  27-03-2013       94       162         28              818                0                28            56                  0                4                    3                  7                  3             1             0             1             1             1         0              3         11         1\n",
       "2218   4838        1978  Graduation       Together  22775.0        1         0  19-06-2013       40         5          1                8                0                 0             1                  1                1                    0                  2                  8             0             0             0             0             0         0              3         11         0\n",
       "810    2964        1981  Graduation        Married  26872.0        0         0  16-10-2013        0         3         10                8                3                16            32                  1                1                    1                  2                  6             0             0             0             0             0         0              3         11         0"
      ]
     },
     "execution_count": 35,
     "metadata": {},
     "output_type": "execute_result"
    }
   ],
   "source": [
    "dfraw.sample(20)"
   ]
  },
  {
   "cell_type": "code",
   "execution_count": 36,
   "metadata": {
    "ExecuteTime": {
     "end_time": "2022-02-19T22:28:30.926322Z",
     "start_time": "2022-02-19T22:28:30.904350Z"
    },
    "colab": {
     "base_uri": "https://localhost:8080/"
    },
    "executionInfo": {
     "elapsed": 38,
     "status": "ok",
     "timestamp": 1642797179008,
     "user": {
      "displayName": "Marcos Poleto",
      "photoUrl": "https://lh3.googleusercontent.com/a/default-user=s64",
      "userId": "02025685955293709320"
     },
     "user_tz": 180
    },
    "id": "7aaTo1sYs34Y",
    "outputId": "6b30937f-ba8a-4312-f73f-7b860a21e88e"
   },
   "outputs": [
    {
     "name": "stdout",
     "output_type": "stream",
     "text": [
      "<class 'pandas.core.frame.DataFrame'>\n",
      "RangeIndex: 2240 entries, 0 to 2239\n",
      "Data columns (total 29 columns):\n",
      " #   Column               Non-Null Count  Dtype  \n",
      "---  ------               --------------  -----  \n",
      " 0   ID                   2240 non-null   int64  \n",
      " 1   Year_Birth           2240 non-null   int64  \n",
      " 2   Education            2240 non-null   object \n",
      " 3   Marital_Status       2240 non-null   object \n",
      " 4   Income               2216 non-null   float64\n",
      " 5   Kidhome              2240 non-null   int64  \n",
      " 6   Teenhome             2240 non-null   int64  \n",
      " 7   Dt_Customer          2240 non-null   object \n",
      " 8   Recency              2240 non-null   int64  \n",
      " 9   MntWines             2240 non-null   int64  \n",
      " 10  MntFruits            2240 non-null   int64  \n",
      " 11  MntMeatProducts      2240 non-null   int64  \n",
      " 12  MntFishProducts      2240 non-null   int64  \n",
      " 13  MntSweetProducts     2240 non-null   int64  \n",
      " 14  MntGoldProds         2240 non-null   int64  \n",
      " 15  NumDealsPurchases    2240 non-null   int64  \n",
      " 16  NumWebPurchases      2240 non-null   int64  \n",
      " 17  NumCatalogPurchases  2240 non-null   int64  \n",
      " 18  NumStorePurchases    2240 non-null   int64  \n",
      " 19  NumWebVisitsMonth    2240 non-null   int64  \n",
      " 20  AcceptedCmp3         2240 non-null   int64  \n",
      " 21  AcceptedCmp4         2240 non-null   int64  \n",
      " 22  AcceptedCmp5         2240 non-null   int64  \n",
      " 23  AcceptedCmp1         2240 non-null   int64  \n",
      " 24  AcceptedCmp2         2240 non-null   int64  \n",
      " 25  Complain             2240 non-null   int64  \n",
      " 26  Z_CostContact        2240 non-null   int64  \n",
      " 27  Z_Revenue            2240 non-null   int64  \n",
      " 28  Response             2240 non-null   int64  \n",
      "dtypes: float64(1), int64(25), object(3)\n",
      "memory usage: 507.6+ KB\n"
     ]
    }
   ],
   "source": [
    "dfraw.info()"
   ]
  },
  {
   "cell_type": "code",
   "execution_count": 37,
   "metadata": {
    "ExecuteTime": {
     "end_time": "2022-02-19T22:28:31.082194Z",
     "start_time": "2022-02-19T22:28:31.067439Z"
    },
    "colab": {
     "base_uri": "https://localhost:8080/"
    },
    "executionInfo": {
     "elapsed": 34,
     "status": "ok",
     "timestamp": 1642797179009,
     "user": {
      "displayName": "Marcos Poleto",
      "photoUrl": "https://lh3.googleusercontent.com/a/default-user=s64",
      "userId": "02025685955293709320"
     },
     "user_tz": 180
    },
    "id": "j9x-4qEmr2re",
    "outputId": "6d0d0b38-b897-4a93-ee7e-d83ed5e1818a"
   },
   "outputs": [
    {
     "data": {
      "text/plain": [
       "ID                      0\n",
       "Year_Birth              0\n",
       "Education               0\n",
       "Marital_Status          0\n",
       "Income                 24\n",
       "Kidhome                 0\n",
       "Teenhome                0\n",
       "Dt_Customer             0\n",
       "Recency                 0\n",
       "MntWines                0\n",
       "MntFruits               0\n",
       "MntMeatProducts         0\n",
       "MntFishProducts         0\n",
       "MntSweetProducts        0\n",
       "MntGoldProds            0\n",
       "NumDealsPurchases       0\n",
       "NumWebPurchases         0\n",
       "NumCatalogPurchases     0\n",
       "NumStorePurchases       0\n",
       "NumWebVisitsMonth       0\n",
       "AcceptedCmp3            0\n",
       "AcceptedCmp4            0\n",
       "AcceptedCmp5            0\n",
       "AcceptedCmp1            0\n",
       "AcceptedCmp2            0\n",
       "Complain                0\n",
       "Z_CostContact           0\n",
       "Z_Revenue               0\n",
       "Response                0\n",
       "dtype: int64"
      ]
     },
     "execution_count": 37,
     "metadata": {},
     "output_type": "execute_result"
    }
   ],
   "source": [
    "dfraw.isnull().sum()"
   ]
  },
  {
   "cell_type": "markdown",
   "metadata": {
    "id": "yAWTiZuisKgK"
   },
   "source": [
    "# 2.0 First Round of Data Cleaning"
   ]
  },
  {
   "cell_type": "code",
   "execution_count": 38,
   "metadata": {
    "ExecuteTime": {
     "end_time": "2022-02-19T22:28:31.401320Z",
     "start_time": "2022-02-19T22:28:31.397273Z"
    },
    "executionInfo": {
     "elapsed": 30,
     "status": "ok",
     "timestamp": 1642797179010,
     "user": {
      "displayName": "Marcos Poleto",
      "photoUrl": "https://lh3.googleusercontent.com/a/default-user=s64",
      "userId": "02025685955293709320"
     },
     "user_tz": 180
    },
    "id": "kja0wXV_sQgR"
   },
   "outputs": [],
   "source": [
    "df1 = dfraw.copy()"
   ]
  },
  {
   "cell_type": "markdown",
   "metadata": {
    "id": "CZNbYvClsOMn"
   },
   "source": [
    "## 2.1 Rename columns"
   ]
  },
  {
   "cell_type": "code",
   "execution_count": 39,
   "metadata": {
    "ExecuteTime": {
     "end_time": "2022-02-19T22:28:31.715158Z",
     "start_time": "2022-02-19T22:28:31.709257Z"
    },
    "colab": {
     "base_uri": "https://localhost:8080/"
    },
    "executionInfo": {
     "elapsed": 30,
     "status": "ok",
     "timestamp": 1642797179011,
     "user": {
      "displayName": "Marcos Poleto",
      "photoUrl": "https://lh3.googleusercontent.com/a/default-user=s64",
      "userId": "02025685955293709320"
     },
     "user_tz": 180
    },
    "id": "Pv9KoGaIhdLa",
    "outputId": "6a4f71d4-dec5-47c4-904c-ee40e85101ec"
   },
   "outputs": [
    {
     "data": {
      "text/plain": [
       "Index(['ID', 'Year_Birth', 'Education', 'Marital_Status', 'Income', 'Kidhome',\n",
       "       'Teenhome', 'Dt_Customer', 'Recency', 'MntWines', 'MntFruits',\n",
       "       'MntMeatProducts', 'MntFishProducts', 'MntSweetProducts',\n",
       "       'MntGoldProds', 'NumDealsPurchases', 'NumWebPurchases',\n",
       "       'NumCatalogPurchases', 'NumStorePurchases', 'NumWebVisitsMonth',\n",
       "       'AcceptedCmp3', 'AcceptedCmp4', 'AcceptedCmp5', 'AcceptedCmp1',\n",
       "       'AcceptedCmp2', 'Complain', 'Z_CostContact', 'Z_Revenue', 'Response'],\n",
       "      dtype='object')"
      ]
     },
     "execution_count": 39,
     "metadata": {},
     "output_type": "execute_result"
    }
   ],
   "source": [
    "df1.columns"
   ]
  },
  {
   "cell_type": "code",
   "execution_count": 40,
   "metadata": {
    "ExecuteTime": {
     "end_time": "2022-02-19T22:28:31.865276Z",
     "start_time": "2022-02-19T22:28:31.856074Z"
    },
    "executionInfo": {
     "elapsed": 24,
     "status": "ok",
     "timestamp": 1642797179011,
     "user": {
      "displayName": "Marcos Poleto",
      "photoUrl": "https://lh3.googleusercontent.com/a/default-user=s64",
      "userId": "02025685955293709320"
     },
     "user_tz": 180
    },
    "id": "cFVyU5WWscj5"
   },
   "outputs": [],
   "source": [
    "new_cols = ['ID', 'YearBirth', 'Education', 'MaritalStatus', 'Income', 'Kidhome',\n",
    "       'Teenhome', 'CustomerDate', 'Recency', 'MntWines', 'MntFruits',\n",
    "       'MntMeatProducts', 'MntFishProducts', 'MntSweetProducts',\n",
    "       'MntGoldProds', 'NumDealsPurchases', 'NumWebPurchases',\n",
    "       'NumCatalogPurchases', 'NumStorePurchases', 'NumWebVisitsMonth',\n",
    "       'AcceptedCmp3', 'AcceptedCmp4', 'AcceptedCmp5', 'AcceptedCmp1',\n",
    "       'AcceptedCmp2', 'Complain', 'Z_CostContact', 'Z_Revenue', 'AcceptedCmpFnl']\n",
    "\n",
    "df1.columns = new_cols"
   ]
  },
  {
   "cell_type": "code",
   "execution_count": null,
   "metadata": {},
   "outputs": [],
   "source": []
  },
  {
   "cell_type": "markdown",
   "metadata": {
    "id": "uDMzWR9_tin_"
   },
   "source": [
    "## 2.2 Dates to Datetime"
   ]
  },
  {
   "cell_type": "code",
   "execution_count": 41,
   "metadata": {
    "ExecuteTime": {
     "end_time": "2022-02-19T22:28:32.390636Z",
     "start_time": "2022-02-19T22:28:32.364094Z"
    },
    "executionInfo": {
     "elapsed": 25,
     "status": "ok",
     "timestamp": 1642797179012,
     "user": {
      "displayName": "Marcos Poleto",
      "photoUrl": "https://lh3.googleusercontent.com/a/default-user=s64",
      "userId": "02025685955293709320"
     },
     "user_tz": 180
    },
    "id": "OgUTvqZttaNl"
   },
   "outputs": [],
   "source": [
    "df1[\"YearBirth\"] = pd.to_datetime(df1[\"YearBirth\"], format=\"%Y\")\n",
    "df1['CustomerDate'] = pd.to_datetime(df1['CustomerDate'], format=\"%d-%m-%Y\")"
   ]
  },
  {
   "cell_type": "code",
   "execution_count": 42,
   "metadata": {
    "ExecuteTime": {
     "end_time": "2022-02-19T22:28:32.554551Z",
     "start_time": "2022-02-19T22:28:32.540908Z"
    }
   },
   "outputs": [
    {
     "data": {
      "text/html": [
       "<div>\n",
       "<style scoped>\n",
       "    .dataframe tbody tr th:only-of-type {\n",
       "        vertical-align: middle;\n",
       "    }\n",
       "\n",
       "    .dataframe tbody tr th {\n",
       "        vertical-align: top;\n",
       "    }\n",
       "\n",
       "    .dataframe thead th {\n",
       "        text-align: right;\n",
       "    }\n",
       "</style>\n",
       "<table border=\"1\" class=\"dataframe\">\n",
       "  <thead>\n",
       "    <tr style=\"text-align: right;\">\n",
       "      <th></th>\n",
       "      <th>CustomerDate</th>\n",
       "      <th>YearBirth</th>\n",
       "    </tr>\n",
       "  </thead>\n",
       "  <tbody>\n",
       "    <tr>\n",
       "      <th>0</th>\n",
       "      <td>2012-09-04</td>\n",
       "      <td>1957-01-01</td>\n",
       "    </tr>\n",
       "    <tr>\n",
       "      <th>1</th>\n",
       "      <td>2014-03-08</td>\n",
       "      <td>1954-01-01</td>\n",
       "    </tr>\n",
       "    <tr>\n",
       "      <th>2</th>\n",
       "      <td>2013-08-21</td>\n",
       "      <td>1965-01-01</td>\n",
       "    </tr>\n",
       "    <tr>\n",
       "      <th>3</th>\n",
       "      <td>2014-02-10</td>\n",
       "      <td>1984-01-01</td>\n",
       "    </tr>\n",
       "    <tr>\n",
       "      <th>4</th>\n",
       "      <td>2014-01-19</td>\n",
       "      <td>1981-01-01</td>\n",
       "    </tr>\n",
       "  </tbody>\n",
       "</table>\n",
       "</div>"
      ],
      "text/plain": [
       "  CustomerDate  YearBirth\n",
       "0   2012-09-04 1957-01-01\n",
       "1   2014-03-08 1954-01-01\n",
       "2   2013-08-21 1965-01-01\n",
       "3   2014-02-10 1984-01-01\n",
       "4   2014-01-19 1981-01-01"
      ]
     },
     "execution_count": 42,
     "metadata": {},
     "output_type": "execute_result"
    }
   ],
   "source": [
    "df1[[\"CustomerDate\", \"YearBirth\"]].head()"
   ]
  },
  {
   "cell_type": "markdown",
   "metadata": {
    "id": "zltRrXKTwSXr"
   },
   "source": [
    "## 2.3 Drop Columns / NA"
   ]
  },
  {
   "cell_type": "code",
   "execution_count": 43,
   "metadata": {
    "ExecuteTime": {
     "end_time": "2022-02-19T22:28:32.859932Z",
     "start_time": "2022-02-19T22:28:32.855299Z"
    },
    "executionInfo": {
     "elapsed": 25,
     "status": "ok",
     "timestamp": 1642797179013,
     "user": {
      "displayName": "Marcos Poleto",
      "photoUrl": "https://lh3.googleusercontent.com/a/default-user=s64",
      "userId": "02025685955293709320"
     },
     "user_tz": 180
    },
    "id": "kXrv8fDuvVuh"
   },
   "outputs": [],
   "source": [
    "df1 = df1.drop(labels=[\"Z_CostContact\", \"Z_Revenue\"], axis=1)"
   ]
  },
  {
   "cell_type": "code",
   "execution_count": 44,
   "metadata": {
    "ExecuteTime": {
     "end_time": "2022-02-19T22:28:33.024405Z",
     "start_time": "2022-02-19T22:28:33.018098Z"
    },
    "executionInfo": {
     "elapsed": 24,
     "status": "ok",
     "timestamp": 1642797179013,
     "user": {
      "displayName": "Marcos Poleto",
      "photoUrl": "https://lh3.googleusercontent.com/a/default-user=s64",
      "userId": "02025685955293709320"
     },
     "user_tz": 180
    },
    "id": "DJ7EtUY7w4I7"
   },
   "outputs": [],
   "source": [
    "df1 = df1.dropna()"
   ]
  },
  {
   "cell_type": "markdown",
   "metadata": {
    "id": "XrxnvG003sZA"
   },
   "source": [
    "## 2.4 Change dtypes"
   ]
  },
  {
   "cell_type": "code",
   "execution_count": 45,
   "metadata": {
    "ExecuteTime": {
     "end_time": "2022-02-19T22:28:33.376307Z",
     "start_time": "2022-02-19T22:28:33.362969Z"
    },
    "executionInfo": {
     "elapsed": 25,
     "status": "ok",
     "timestamp": 1642797179014,
     "user": {
      "displayName": "Marcos Poleto",
      "photoUrl": "https://lh3.googleusercontent.com/a/default-user=s64",
      "userId": "02025685955293709320"
     },
     "user_tz": 180
    },
    "id": "i7hGOCJp6aL5"
   },
   "outputs": [],
   "source": [
    "df1[\"ID\"] = df1[\"ID\"].astype(str)\n",
    "df1[\"Education\"] = df1[\"Education\"].astype(\"category\")\n",
    "df1[\"MaritalStatus\"] = df1[\"MaritalStatus\"].astype(\"category\")"
   ]
  },
  {
   "cell_type": "code",
   "execution_count": 46,
   "metadata": {
    "ExecuteTime": {
     "end_time": "2022-02-19T22:28:33.537289Z",
     "start_time": "2022-02-19T22:28:33.526793Z"
    },
    "colab": {
     "base_uri": "https://localhost:8080/"
    },
    "executionInfo": {
     "elapsed": 24,
     "status": "ok",
     "timestamp": 1642797179014,
     "user": {
      "displayName": "Marcos Poleto",
      "photoUrl": "https://lh3.googleusercontent.com/a/default-user=s64",
      "userId": "02025685955293709320"
     },
     "user_tz": 180
    },
    "id": "ar-O0NWZRuL5",
    "outputId": "2aef0604-549b-4972-a622-42b693627326"
   },
   "outputs": [
    {
     "data": {
      "text/plain": [
       "ID                             object\n",
       "YearBirth              datetime64[ns]\n",
       "Education                    category\n",
       "MaritalStatus                category\n",
       "Income                        float64\n",
       "Kidhome                         int64\n",
       "Teenhome                        int64\n",
       "CustomerDate           datetime64[ns]\n",
       "Recency                         int64\n",
       "MntWines                        int64\n",
       "MntFruits                       int64\n",
       "MntMeatProducts                 int64\n",
       "MntFishProducts                 int64\n",
       "MntSweetProducts                int64\n",
       "MntGoldProds                    int64\n",
       "NumDealsPurchases               int64\n",
       "NumWebPurchases                 int64\n",
       "NumCatalogPurchases             int64\n",
       "NumStorePurchases               int64\n",
       "NumWebVisitsMonth               int64\n",
       "AcceptedCmp3                    int64\n",
       "AcceptedCmp4                    int64\n",
       "AcceptedCmp5                    int64\n",
       "AcceptedCmp1                    int64\n",
       "AcceptedCmp2                    int64\n",
       "Complain                        int64\n",
       "AcceptedCmpFnl                  int64\n",
       "dtype: object"
      ]
     },
     "execution_count": 46,
     "metadata": {},
     "output_type": "execute_result"
    }
   ],
   "source": [
    "df1.dtypes"
   ]
  },
  {
   "cell_type": "markdown",
   "metadata": {
    "id": "PQf2Gkmhxz56"
   },
   "source": [
    "# 3.0 Data Description & Exploring"
   ]
  },
  {
   "cell_type": "code",
   "execution_count": 47,
   "metadata": {
    "ExecuteTime": {
     "end_time": "2022-02-19T22:28:33.886952Z",
     "start_time": "2022-02-19T22:28:33.882439Z"
    },
    "executionInfo": {
     "elapsed": 20,
     "status": "ok",
     "timestamp": 1642797179015,
     "user": {
      "displayName": "Marcos Poleto",
      "photoUrl": "https://lh3.googleusercontent.com/a/default-user=s64",
      "userId": "02025685955293709320"
     },
     "user_tz": 180
    },
    "id": "J2XADymLxtNF"
   },
   "outputs": [],
   "source": [
    "df2 = df1.copy()"
   ]
  },
  {
   "cell_type": "code",
   "execution_count": 48,
   "metadata": {
    "ExecuteTime": {
     "end_time": "2022-02-19T22:28:34.074334Z",
     "start_time": "2022-02-19T22:28:34.068471Z"
    },
    "executionInfo": {
     "elapsed": 20,
     "status": "ok",
     "timestamp": 1642797179016,
     "user": {
      "displayName": "Marcos Poleto",
      "photoUrl": "https://lh3.googleusercontent.com/a/default-user=s64",
      "userId": "02025685955293709320"
     },
     "user_tz": 180
    },
    "id": "ufx-2A1eX5tR"
   },
   "outputs": [],
   "source": [
    "dfcat = df2.select_dtypes(include=[\"object\", \"category\"])\n",
    "dfnum = df2.select_dtypes(include=[\"int64\", \"float64\", \"datetime64[ns]\"])"
   ]
  },
  {
   "cell_type": "markdown",
   "metadata": {
    "id": "IWK25qmzyC4U"
   },
   "source": [
    "## 3.1 Numerical Attributes Describe()"
   ]
  },
  {
   "cell_type": "code",
   "execution_count": 49,
   "metadata": {
    "ExecuteTime": {
     "end_time": "2022-02-19T22:28:34.502914Z",
     "start_time": "2022-02-19T22:28:34.396072Z"
    },
    "colab": {
     "base_uri": "https://localhost:8080/",
     "height": 739
    },
    "executionInfo": {
     "elapsed": 523,
     "status": "ok",
     "timestamp": 1642797179519,
     "user": {
      "displayName": "Marcos Poleto",
      "photoUrl": "https://lh3.googleusercontent.com/a/default-user=s64",
      "userId": "02025685955293709320"
     },
     "user_tz": 180
    },
    "id": "wLLMyGnJx5xL",
    "outputId": "427440b0-fea9-4d27-f23c-7ce82646c0e2"
   },
   "outputs": [
    {
     "data": {
      "text/html": [
       "<div>\n",
       "<style scoped>\n",
       "    .dataframe tbody tr th:only-of-type {\n",
       "        vertical-align: middle;\n",
       "    }\n",
       "\n",
       "    .dataframe tbody tr th {\n",
       "        vertical-align: top;\n",
       "    }\n",
       "\n",
       "    .dataframe thead th {\n",
       "        text-align: right;\n",
       "    }\n",
       "</style>\n",
       "<table border=\"1\" class=\"dataframe\">\n",
       "  <thead>\n",
       "    <tr style=\"text-align: right;\">\n",
       "      <th></th>\n",
       "      <th>count</th>\n",
       "      <th>mean</th>\n",
       "      <th>std</th>\n",
       "      <th>min</th>\n",
       "      <th>25%</th>\n",
       "      <th>50%</th>\n",
       "      <th>75%</th>\n",
       "      <th>max</th>\n",
       "    </tr>\n",
       "  </thead>\n",
       "  <tbody>\n",
       "    <tr>\n",
       "      <th>Income</th>\n",
       "      <td>2216.0</td>\n",
       "      <td>52247.251354</td>\n",
       "      <td>25173.076661</td>\n",
       "      <td>1730.0</td>\n",
       "      <td>35303.0</td>\n",
       "      <td>51381.5</td>\n",
       "      <td>68522.00</td>\n",
       "      <td>666666.0</td>\n",
       "    </tr>\n",
       "    <tr>\n",
       "      <th>Kidhome</th>\n",
       "      <td>2216.0</td>\n",
       "      <td>0.441787</td>\n",
       "      <td>0.536896</td>\n",
       "      <td>0.0</td>\n",
       "      <td>0.0</td>\n",
       "      <td>0.0</td>\n",
       "      <td>1.00</td>\n",
       "      <td>2.0</td>\n",
       "    </tr>\n",
       "    <tr>\n",
       "      <th>Teenhome</th>\n",
       "      <td>2216.0</td>\n",
       "      <td>0.505415</td>\n",
       "      <td>0.544181</td>\n",
       "      <td>0.0</td>\n",
       "      <td>0.0</td>\n",
       "      <td>0.0</td>\n",
       "      <td>1.00</td>\n",
       "      <td>2.0</td>\n",
       "    </tr>\n",
       "    <tr>\n",
       "      <th>Recency</th>\n",
       "      <td>2216.0</td>\n",
       "      <td>49.012635</td>\n",
       "      <td>28.948352</td>\n",
       "      <td>0.0</td>\n",
       "      <td>24.0</td>\n",
       "      <td>49.0</td>\n",
       "      <td>74.00</td>\n",
       "      <td>99.0</td>\n",
       "    </tr>\n",
       "    <tr>\n",
       "      <th>MntWines</th>\n",
       "      <td>2216.0</td>\n",
       "      <td>305.091606</td>\n",
       "      <td>337.327920</td>\n",
       "      <td>0.0</td>\n",
       "      <td>24.0</td>\n",
       "      <td>174.5</td>\n",
       "      <td>505.00</td>\n",
       "      <td>1493.0</td>\n",
       "    </tr>\n",
       "    <tr>\n",
       "      <th>MntFruits</th>\n",
       "      <td>2216.0</td>\n",
       "      <td>26.356047</td>\n",
       "      <td>39.793917</td>\n",
       "      <td>0.0</td>\n",
       "      <td>2.0</td>\n",
       "      <td>8.0</td>\n",
       "      <td>33.00</td>\n",
       "      <td>199.0</td>\n",
       "    </tr>\n",
       "    <tr>\n",
       "      <th>MntMeatProducts</th>\n",
       "      <td>2216.0</td>\n",
       "      <td>166.995939</td>\n",
       "      <td>224.283273</td>\n",
       "      <td>0.0</td>\n",
       "      <td>16.0</td>\n",
       "      <td>68.0</td>\n",
       "      <td>232.25</td>\n",
       "      <td>1725.0</td>\n",
       "    </tr>\n",
       "    <tr>\n",
       "      <th>MntFishProducts</th>\n",
       "      <td>2216.0</td>\n",
       "      <td>37.637635</td>\n",
       "      <td>54.752082</td>\n",
       "      <td>0.0</td>\n",
       "      <td>3.0</td>\n",
       "      <td>12.0</td>\n",
       "      <td>50.00</td>\n",
       "      <td>259.0</td>\n",
       "    </tr>\n",
       "    <tr>\n",
       "      <th>MntSweetProducts</th>\n",
       "      <td>2216.0</td>\n",
       "      <td>27.028881</td>\n",
       "      <td>41.072046</td>\n",
       "      <td>0.0</td>\n",
       "      <td>1.0</td>\n",
       "      <td>8.0</td>\n",
       "      <td>33.00</td>\n",
       "      <td>262.0</td>\n",
       "    </tr>\n",
       "    <tr>\n",
       "      <th>MntGoldProds</th>\n",
       "      <td>2216.0</td>\n",
       "      <td>43.965253</td>\n",
       "      <td>51.815414</td>\n",
       "      <td>0.0</td>\n",
       "      <td>9.0</td>\n",
       "      <td>24.5</td>\n",
       "      <td>56.00</td>\n",
       "      <td>321.0</td>\n",
       "    </tr>\n",
       "    <tr>\n",
       "      <th>NumDealsPurchases</th>\n",
       "      <td>2216.0</td>\n",
       "      <td>2.323556</td>\n",
       "      <td>1.923716</td>\n",
       "      <td>0.0</td>\n",
       "      <td>1.0</td>\n",
       "      <td>2.0</td>\n",
       "      <td>3.00</td>\n",
       "      <td>15.0</td>\n",
       "    </tr>\n",
       "    <tr>\n",
       "      <th>NumWebPurchases</th>\n",
       "      <td>2216.0</td>\n",
       "      <td>4.085289</td>\n",
       "      <td>2.740951</td>\n",
       "      <td>0.0</td>\n",
       "      <td>2.0</td>\n",
       "      <td>4.0</td>\n",
       "      <td>6.00</td>\n",
       "      <td>27.0</td>\n",
       "    </tr>\n",
       "    <tr>\n",
       "      <th>NumCatalogPurchases</th>\n",
       "      <td>2216.0</td>\n",
       "      <td>2.671029</td>\n",
       "      <td>2.926734</td>\n",
       "      <td>0.0</td>\n",
       "      <td>0.0</td>\n",
       "      <td>2.0</td>\n",
       "      <td>4.00</td>\n",
       "      <td>28.0</td>\n",
       "    </tr>\n",
       "    <tr>\n",
       "      <th>NumStorePurchases</th>\n",
       "      <td>2216.0</td>\n",
       "      <td>5.800993</td>\n",
       "      <td>3.250785</td>\n",
       "      <td>0.0</td>\n",
       "      <td>3.0</td>\n",
       "      <td>5.0</td>\n",
       "      <td>8.00</td>\n",
       "      <td>13.0</td>\n",
       "    </tr>\n",
       "    <tr>\n",
       "      <th>NumWebVisitsMonth</th>\n",
       "      <td>2216.0</td>\n",
       "      <td>5.319043</td>\n",
       "      <td>2.425359</td>\n",
       "      <td>0.0</td>\n",
       "      <td>3.0</td>\n",
       "      <td>6.0</td>\n",
       "      <td>7.00</td>\n",
       "      <td>20.0</td>\n",
       "    </tr>\n",
       "    <tr>\n",
       "      <th>AcceptedCmp3</th>\n",
       "      <td>2216.0</td>\n",
       "      <td>0.073556</td>\n",
       "      <td>0.261106</td>\n",
       "      <td>0.0</td>\n",
       "      <td>0.0</td>\n",
       "      <td>0.0</td>\n",
       "      <td>0.00</td>\n",
       "      <td>1.0</td>\n",
       "    </tr>\n",
       "    <tr>\n",
       "      <th>AcceptedCmp4</th>\n",
       "      <td>2216.0</td>\n",
       "      <td>0.074007</td>\n",
       "      <td>0.261842</td>\n",
       "      <td>0.0</td>\n",
       "      <td>0.0</td>\n",
       "      <td>0.0</td>\n",
       "      <td>0.00</td>\n",
       "      <td>1.0</td>\n",
       "    </tr>\n",
       "    <tr>\n",
       "      <th>AcceptedCmp5</th>\n",
       "      <td>2216.0</td>\n",
       "      <td>0.073105</td>\n",
       "      <td>0.260367</td>\n",
       "      <td>0.0</td>\n",
       "      <td>0.0</td>\n",
       "      <td>0.0</td>\n",
       "      <td>0.00</td>\n",
       "      <td>1.0</td>\n",
       "    </tr>\n",
       "    <tr>\n",
       "      <th>AcceptedCmp1</th>\n",
       "      <td>2216.0</td>\n",
       "      <td>0.064079</td>\n",
       "      <td>0.244950</td>\n",
       "      <td>0.0</td>\n",
       "      <td>0.0</td>\n",
       "      <td>0.0</td>\n",
       "      <td>0.00</td>\n",
       "      <td>1.0</td>\n",
       "    </tr>\n",
       "    <tr>\n",
       "      <th>AcceptedCmp2</th>\n",
       "      <td>2216.0</td>\n",
       "      <td>0.013538</td>\n",
       "      <td>0.115588</td>\n",
       "      <td>0.0</td>\n",
       "      <td>0.0</td>\n",
       "      <td>0.0</td>\n",
       "      <td>0.00</td>\n",
       "      <td>1.0</td>\n",
       "    </tr>\n",
       "    <tr>\n",
       "      <th>Complain</th>\n",
       "      <td>2216.0</td>\n",
       "      <td>0.009477</td>\n",
       "      <td>0.096907</td>\n",
       "      <td>0.0</td>\n",
       "      <td>0.0</td>\n",
       "      <td>0.0</td>\n",
       "      <td>0.00</td>\n",
       "      <td>1.0</td>\n",
       "    </tr>\n",
       "    <tr>\n",
       "      <th>AcceptedCmpFnl</th>\n",
       "      <td>2216.0</td>\n",
       "      <td>0.150271</td>\n",
       "      <td>0.357417</td>\n",
       "      <td>0.0</td>\n",
       "      <td>0.0</td>\n",
       "      <td>0.0</td>\n",
       "      <td>0.00</td>\n",
       "      <td>1.0</td>\n",
       "    </tr>\n",
       "  </tbody>\n",
       "</table>\n",
       "</div>"
      ],
      "text/plain": [
       "                      count          mean           std     min      25%      50%       75%       max\n",
       "Income               2216.0  52247.251354  25173.076661  1730.0  35303.0  51381.5  68522.00  666666.0\n",
       "Kidhome              2216.0      0.441787      0.536896     0.0      0.0      0.0      1.00       2.0\n",
       "Teenhome             2216.0      0.505415      0.544181     0.0      0.0      0.0      1.00       2.0\n",
       "Recency              2216.0     49.012635     28.948352     0.0     24.0     49.0     74.00      99.0\n",
       "MntWines             2216.0    305.091606    337.327920     0.0     24.0    174.5    505.00    1493.0\n",
       "MntFruits            2216.0     26.356047     39.793917     0.0      2.0      8.0     33.00     199.0\n",
       "MntMeatProducts      2216.0    166.995939    224.283273     0.0     16.0     68.0    232.25    1725.0\n",
       "MntFishProducts      2216.0     37.637635     54.752082     0.0      3.0     12.0     50.00     259.0\n",
       "MntSweetProducts     2216.0     27.028881     41.072046     0.0      1.0      8.0     33.00     262.0\n",
       "MntGoldProds         2216.0     43.965253     51.815414     0.0      9.0     24.5     56.00     321.0\n",
       "NumDealsPurchases    2216.0      2.323556      1.923716     0.0      1.0      2.0      3.00      15.0\n",
       "NumWebPurchases      2216.0      4.085289      2.740951     0.0      2.0      4.0      6.00      27.0\n",
       "NumCatalogPurchases  2216.0      2.671029      2.926734     0.0      0.0      2.0      4.00      28.0\n",
       "NumStorePurchases    2216.0      5.800993      3.250785     0.0      3.0      5.0      8.00      13.0\n",
       "NumWebVisitsMonth    2216.0      5.319043      2.425359     0.0      3.0      6.0      7.00      20.0\n",
       "AcceptedCmp3         2216.0      0.073556      0.261106     0.0      0.0      0.0      0.00       1.0\n",
       "AcceptedCmp4         2216.0      0.074007      0.261842     0.0      0.0      0.0      0.00       1.0\n",
       "AcceptedCmp5         2216.0      0.073105      0.260367     0.0      0.0      0.0      0.00       1.0\n",
       "AcceptedCmp1         2216.0      0.064079      0.244950     0.0      0.0      0.0      0.00       1.0\n",
       "AcceptedCmp2         2216.0      0.013538      0.115588     0.0      0.0      0.0      0.00       1.0\n",
       "Complain             2216.0      0.009477      0.096907     0.0      0.0      0.0      0.00       1.0\n",
       "AcceptedCmpFnl       2216.0      0.150271      0.357417     0.0      0.0      0.0      0.00       1.0"
      ]
     },
     "execution_count": 49,
     "metadata": {},
     "output_type": "execute_result"
    }
   ],
   "source": [
    "df2.describe().T"
   ]
  },
  {
   "cell_type": "code",
   "execution_count": 50,
   "metadata": {
    "ExecuteTime": {
     "end_time": "2022-02-19T22:28:34.585248Z",
     "start_time": "2022-02-19T22:28:34.573208Z"
    },
    "scrolled": true
   },
   "outputs": [
    {
     "data": {
      "text/plain": [
       "2233    666666.0\n",
       "617     162397.0\n",
       "Name: Income, dtype: float64"
      ]
     },
     "execution_count": 50,
     "metadata": {},
     "output_type": "execute_result"
    }
   ],
   "source": [
    "df2.Income.nlargest(2)"
   ]
  },
  {
   "cell_type": "markdown",
   "metadata": {
    "id": "B_ito6vB0txV"
   },
   "source": [
    "## 3.2 Numerical Attributes Skew & kurtosis"
   ]
  },
  {
   "cell_type": "code",
   "execution_count": 51,
   "metadata": {
    "ExecuteTime": {
     "end_time": "2022-02-19T22:28:34.963173Z",
     "start_time": "2022-02-19T22:28:34.921566Z"
    },
    "colab": {
     "base_uri": "https://localhost:8080/"
    },
    "executionInfo": {
     "elapsed": 20,
     "status": "ok",
     "timestamp": 1642797179521,
     "user": {
      "displayName": "Marcos Poleto",
      "photoUrl": "https://lh3.googleusercontent.com/a/default-user=s64",
      "userId": "02025685955293709320"
     },
     "user_tz": 180
    },
    "id": "cNgTCBmQydP7",
    "outputId": "b81d3910-504c-4f45-d95e-ef88255d7aac"
   },
   "outputs": [
    {
     "name": "stderr",
     "output_type": "stream",
     "text": [
      "/tmp/ipykernel_44608/1392430659.py:1: FutureWarning: Dropping of nuisance columns in DataFrame reductions (with 'numeric_only=None') is deprecated; in a future version this will raise TypeError.  Select only valid columns before calling the reduction.\n",
      "  dfnum.skew()\n"
     ]
    },
    {
     "data": {
      "text/plain": [
       "Income                  6.763487\n",
       "Kidhome                 0.635610\n",
       "Teenhome                0.407553\n",
       "Recency                 0.001648\n",
       "MntWines                1.170720\n",
       "MntFruits               2.101658\n",
       "MntMeatProducts         2.025577\n",
       "MntFishProducts         1.916369\n",
       "MntSweetProducts        2.103328\n",
       "MntGoldProds            1.839231\n",
       "NumDealsPurchases       2.415272\n",
       "NumWebPurchases         1.197037\n",
       "NumCatalogPurchases     1.881075\n",
       "NumStorePurchases       0.701826\n",
       "NumWebVisitsMonth       0.218043\n",
       "AcceptedCmp3            3.269397\n",
       "AcceptedCmp4            3.256758\n",
       "AcceptedCmp5            3.282143\n",
       "AcceptedCmp1            3.562482\n",
       "AcceptedCmp2            8.424753\n",
       "Complain               10.132737\n",
       "AcceptedCmpFnl          1.958748\n",
       "dtype: float64"
      ]
     },
     "execution_count": 51,
     "metadata": {},
     "output_type": "execute_result"
    }
   ],
   "source": [
    "dfnum.skew()"
   ]
  },
  {
   "cell_type": "code",
   "execution_count": 52,
   "metadata": {
    "ExecuteTime": {
     "end_time": "2022-02-19T22:28:35.113888Z",
     "start_time": "2022-02-19T22:28:35.083262Z"
    },
    "colab": {
     "base_uri": "https://localhost:8080/"
    },
    "executionInfo": {
     "elapsed": 14,
     "status": "ok",
     "timestamp": 1642797179521,
     "user": {
      "displayName": "Marcos Poleto",
      "photoUrl": "https://lh3.googleusercontent.com/a/default-user=s64",
      "userId": "02025685955293709320"
     },
     "user_tz": 180
    },
    "id": "1i6HFRhB011w",
    "outputId": "8605d198-d22b-487d-ec1e-0ededae2ef2f"
   },
   "outputs": [
    {
     "name": "stderr",
     "output_type": "stream",
     "text": [
      "/tmp/ipykernel_44608/1159052801.py:1: FutureWarning: Dropping of nuisance columns in DataFrame reductions (with 'numeric_only=None') is deprecated; in a future version this will raise TypeError.  Select only valid columns before calling the reduction.\n",
      "  dfnum.kurtosis()\n"
     ]
    },
    {
     "data": {
      "text/plain": [
       "Income                 159.636700\n",
       "Kidhome                 -0.791164\n",
       "Teenhome                -0.989619\n",
       "Recency                 -1.199777\n",
       "MntWines                 0.582741\n",
       "MntFruits                4.054082\n",
       "MntMeatProducts          5.055477\n",
       "MntFishProducts          3.076476\n",
       "MntSweetProducts         4.106141\n",
       "MntGoldProds             3.156342\n",
       "NumDealsPurchases        8.974490\n",
       "NumWebPurchases          4.072137\n",
       "NumCatalogPurchases      8.067126\n",
       "NumStorePurchases       -0.626462\n",
       "NumWebVisitsMonth        1.852577\n",
       "AcceptedCmp3             8.696805\n",
       "AcceptedCmp4             8.614248\n",
       "AcceptedCmp5             8.780388\n",
       "AcceptedCmp1            10.700936\n",
       "AcceptedCmp2            69.038772\n",
       "Complain               100.763293\n",
       "AcceptedCmpFnl           1.838352\n",
       "dtype: float64"
      ]
     },
     "execution_count": 52,
     "metadata": {},
     "output_type": "execute_result"
    }
   ],
   "source": [
    "dfnum.kurtosis()"
   ]
  },
  {
   "cell_type": "markdown",
   "metadata": {
    "id": "CReOa12N0_ep"
   },
   "source": [
    "## 3.3 Numerical Attributes Histogram"
   ]
  },
  {
   "cell_type": "code",
   "execution_count": 53,
   "metadata": {
    "ExecuteTime": {
     "end_time": "2022-02-19T22:28:38.521099Z",
     "start_time": "2022-02-19T22:28:35.442987Z"
    },
    "colab": {
     "base_uri": "https://localhost:8080/",
     "height": 719
    },
    "executionInfo": {
     "elapsed": 5989,
     "status": "ok",
     "timestamp": 1642797185502,
     "user": {
      "displayName": "Marcos Poleto",
      "photoUrl": "https://lh3.googleusercontent.com/a/default-user=s64",
      "userId": "02025685955293709320"
     },
     "user_tz": 180
    },
    "id": "sAVngAxqtORf",
    "outputId": "18b8c803-67fe-40ff-afbe-5bab92712aff"
   },
   "outputs": [
    {
     "data": {
      "image/png": "[encoded data removed]",
      "text/plain": [
       "<Figure size 1800x864 with 25 Axes>"
      ]
     },
     "metadata": {},
     "output_type": "display_data"
    }
   ],
   "source": [
    "dfnum.hist()\n",
    "plt.show()"
   ]
  },
  {
   "cell_type": "markdown",
   "metadata": {
    "id": "jqzYMTJe_0mi"
   },
   "source": [
    "## 3.5 Categorical Attributes Countplot"
   ]
  },
  {
   "cell_type": "code",
   "execution_count": 54,
   "metadata": {
    "ExecuteTime": {
     "end_time": "2022-02-19T22:28:38.889785Z",
     "start_time": "2022-02-19T22:28:38.523463Z"
    },
    "colab": {
     "base_uri": "https://localhost:8080/",
     "height": 737
    },
    "executionInfo": {
     "elapsed": 689,
     "status": "ok",
     "timestamp": 1642797186182,
     "user": {
      "displayName": "Marcos Poleto",
      "photoUrl": "https://lh3.googleusercontent.com/a/default-user=s64",
      "userId": "02025685955293709320"
     },
     "user_tz": 180
    },
    "id": "IQrkeqZ50XoD",
    "outputId": "bfccf469-ee0d-497d-b810-0d3dbda1b2db"
   },
   "outputs": [
    {
     "data": {
      "text/plain": [
       "<AxesSubplot:xlabel='Education', ylabel='count'>"
      ]
     },
     "execution_count": 54,
     "metadata": {},
     "output_type": "execute_result"
    },
    {
     "data": {
      "image/png": "[encoded data removed]",
      "text/plain": [
       "<Figure size 1800x864 with 2 Axes>"
      ]
     },
     "metadata": {},
     "output_type": "display_data"
    }
   ],
   "source": [
    "plt.subplot(1, 2, 1)\n",
    "sns.countplot(x=\"MaritalStatus\", data=dfcat)\n",
    "\n",
    "plt.subplot(1, 2, 2)\n",
    "sns.countplot(x=\"Education\", data=dfcat)"
   ]
  },
  {
   "cell_type": "code",
   "execution_count": 55,
   "metadata": {
    "ExecuteTime": {
     "end_time": "2022-02-19T22:28:38.899043Z",
     "start_time": "2022-02-19T22:28:38.891153Z"
    },
    "colab": {
     "base_uri": "https://localhost:8080/"
    },
    "executionInfo": {
     "elapsed": 79,
     "status": "ok",
     "timestamp": 1642797186184,
     "user": {
      "displayName": "Marcos Poleto",
      "photoUrl": "https://lh3.googleusercontent.com/a/default-user=s64",
      "userId": "02025685955293709320"
     },
     "user_tz": 180
    },
    "id": "Cg_11Hv4lR9t",
    "outputId": "f58a5998-8bc1-4820-aefc-c13a0641cf94"
   },
   "outputs": [
    {
     "data": {
      "text/plain": [
       "Married     857\n",
       "Together    573\n",
       "Single      471\n",
       "Divorced    232\n",
       "Widow        76\n",
       "Alone         3\n",
       "Absurd        2\n",
       "YOLO          2\n",
       "Name: MaritalStatus, dtype: int64"
      ]
     },
     "execution_count": 55,
     "metadata": {},
     "output_type": "execute_result"
    }
   ],
   "source": [
    "dfcat[\"MaritalStatus\"].value_counts()"
   ]
  },
  {
   "cell_type": "markdown",
   "metadata": {
    "id": "juv1DuCWINMW"
   },
   "source": [
    "## 2.6 Year of Birth Exploration"
   ]
  },
  {
   "cell_type": "code",
   "execution_count": 56,
   "metadata": {
    "ExecuteTime": {
     "end_time": "2022-02-19T22:28:41.234555Z",
     "start_time": "2022-02-19T22:28:41.223625Z"
    },
    "colab": {
     "base_uri": "https://localhost:8080/"
    },
    "executionInfo": {
     "elapsed": 72,
     "status": "ok",
     "timestamp": 1642797186185,
     "user": {
      "displayName": "Marcos Poleto",
      "photoUrl": "https://lh3.googleusercontent.com/a/default-user=s64",
      "userId": "02025685955293709320"
     },
     "user_tz": 180
    },
    "id": "GIjPDM5TAg68",
    "outputId": "bb8198dc-d5b6-4891-8f26-fc734106fb57"
   },
   "outputs": [
    {
     "data": {
      "text/plain": [
       "1976-01-01    89\n",
       "1971-01-01    86\n",
       "1975-01-01    83\n",
       "1972-01-01    78\n",
       "1978-01-01    76\n",
       "1970-01-01    75\n",
       "1965-01-01    74\n",
       "1973-01-01    72\n",
       "1969-01-01    70\n",
       "1974-01-01    69\n",
       "1956-01-01    55\n",
       "1979-01-01    53\n",
       "1958-01-01    52\n",
       "1977-01-01    52\n",
       "1952-01-01    52\n",
       "1968-01-01    51\n",
       "1966-01-01    50\n",
       "1959-01-01    50\n",
       "1954-01-01    49\n",
       "1960-01-01    49\n",
       "1955-01-01    48\n",
       "1982-01-01    44\n",
       "1963-01-01    44\n",
       "1962-01-01    44\n",
       "1967-01-01    44\n",
       "1951-01-01    42\n",
       "1983-01-01    41\n",
       "1986-01-01    41\n",
       "1957-01-01    41\n",
       "1964-01-01    41\n",
       "1980-01-01    39\n",
       "1981-01-01    38\n",
       "1984-01-01    38\n",
       "1961-01-01    35\n",
       "1953-01-01    35\n",
       "1985-01-01    32\n",
       "1949-01-01    30\n",
       "1989-01-01    29\n",
       "1988-01-01    29\n",
       "1950-01-01    29\n",
       "1987-01-01    27\n",
       "1948-01-01    21\n",
       "1990-01-01    18\n",
       "1946-01-01    16\n",
       "1947-01-01    16\n",
       "1991-01-01    15\n",
       "1992-01-01    13\n",
       "1945-01-01     8\n",
       "1944-01-01     7\n",
       "1943-01-01     6\n",
       "1995-01-01     5\n",
       "1993-01-01     5\n",
       "1994-01-01     3\n",
       "1996-01-01     2\n",
       "1899-01-01     1\n",
       "1941-01-01     1\n",
       "1893-01-01     1\n",
       "1900-01-01     1\n",
       "1940-01-01     1\n",
       "Name: YearBirth, dtype: int64"
      ]
     },
     "execution_count": 56,
     "metadata": {},
     "output_type": "execute_result"
    }
   ],
   "source": [
    "dfnum[\"YearBirth\"].value_counts()"
   ]
  },
  {
   "cell_type": "markdown",
   "metadata": {
    "id": "3TUra1q9O1X5"
   },
   "source": [
    "# 4.0 Second Round of Data Cleaning"
   ]
  },
  {
   "cell_type": "markdown",
   "metadata": {
    "id": "nu3Py6kbjCEQ"
   },
   "source": [
    "We found some unusual values in some of the attributes. We'll be performing another round of data cleaning where we will:\n",
    "\n",
    "* Categorize marital status **\"Alone\"**, **\"YOLO\"** and **\"Absurd\"** as **\"Single\"**\n",
    "* Remove an outlier from the **\"Income\"** collumn\n",
    "* Filter data by year of birth > 1940"
   ]
  },
  {
   "cell_type": "code",
   "execution_count": 57,
   "metadata": {
    "ExecuteTime": {
     "end_time": "2022-02-19T22:28:43.621402Z",
     "start_time": "2022-02-19T22:28:43.616195Z"
    },
    "executionInfo": {
     "elapsed": 68,
     "status": "ok",
     "timestamp": 1642797186186,
     "user": {
      "displayName": "Marcos Poleto",
      "photoUrl": "https://lh3.googleusercontent.com/a/default-user=s64",
      "userId": "02025685955293709320"
     },
     "user_tz": 180
    },
    "id": "ruA3E-6EpylZ"
   },
   "outputs": [],
   "source": [
    "df3 = df2.copy()"
   ]
  },
  {
   "cell_type": "code",
   "execution_count": 58,
   "metadata": {
    "ExecuteTime": {
     "end_time": "2022-02-19T22:28:43.796452Z",
     "start_time": "2022-02-19T22:28:43.791260Z"
    },
    "executionInfo": {
     "elapsed": 67,
     "status": "ok",
     "timestamp": 1642797186186,
     "user": {
      "displayName": "Marcos Poleto",
      "photoUrl": "https://lh3.googleusercontent.com/a/default-user=s64",
      "userId": "02025685955293709320"
     },
     "user_tz": 180
    },
    "id": "wsih1NbNJfAo"
   },
   "outputs": [],
   "source": [
    "df3[\"MaritalStatus\"] = df3[\"MaritalStatus\"].apply(lambda x: \"Single\" if (x == \"Alone\") | (x == \"Absurd\") | (x == \"YOLO\") else x) "
   ]
  },
  {
   "cell_type": "code",
   "execution_count": 59,
   "metadata": {
    "ExecuteTime": {
     "end_time": "2022-02-19T22:28:43.962323Z",
     "start_time": "2022-02-19T22:28:43.955496Z"
    },
    "colab": {
     "base_uri": "https://localhost:8080/"
    },
    "executionInfo": {
     "elapsed": 68,
     "status": "ok",
     "timestamp": 1642797186187,
     "user": {
      "displayName": "Marcos Poleto",
      "photoUrl": "https://lh3.googleusercontent.com/a/default-user=s64",
      "userId": "02025685955293709320"
     },
     "user_tz": 180
    },
    "id": "ft3kjkTcm8mo",
    "outputId": "47cf3841-8ed8-48d0-a6f3-cc31e0e5f849"
   },
   "outputs": [
    {
     "data": {
      "text/plain": [
       "Married     857\n",
       "Together    573\n",
       "Single      478\n",
       "Divorced    232\n",
       "Widow        76\n",
       "Name: MaritalStatus, dtype: int64"
      ]
     },
     "execution_count": 59,
     "metadata": {},
     "output_type": "execute_result"
    }
   ],
   "source": [
    "df3.MaritalStatus.value_counts()"
   ]
  },
  {
   "cell_type": "code",
   "execution_count": 60,
   "metadata": {
    "ExecuteTime": {
     "end_time": "2022-02-19T22:28:44.130033Z",
     "start_time": "2022-02-19T22:28:44.122851Z"
    },
    "executionInfo": {
     "elapsed": 61,
     "status": "ok",
     "timestamp": 1642797186187,
     "user": {
      "displayName": "Marcos Poleto",
      "photoUrl": "https://lh3.googleusercontent.com/a/default-user=s64",
      "userId": "02025685955293709320"
     },
     "user_tz": 180
    },
    "id": "ZrD20lSypBKk"
   },
   "outputs": [],
   "source": [
    "df3 =  df3.loc[df3[\"Income\"] <= 200000, :]"
   ]
  },
  {
   "cell_type": "code",
   "execution_count": 61,
   "metadata": {
    "ExecuteTime": {
     "end_time": "2022-02-19T22:28:44.273922Z",
     "start_time": "2022-02-19T22:28:44.268777Z"
    },
    "colab": {
     "base_uri": "https://localhost:8080/"
    },
    "executionInfo": {
     "elapsed": 60,
     "status": "ok",
     "timestamp": 1642797186187,
     "user": {
      "displayName": "Marcos Poleto",
      "photoUrl": "https://lh3.googleusercontent.com/a/default-user=s64",
      "userId": "02025685955293709320"
     },
     "user_tz": 180
    },
    "id": "HcI9F-WCpsLO",
    "outputId": "b2730518-afbc-4180-f5d1-ddcd6faab0c1"
   },
   "outputs": [
    {
     "data": {
      "text/plain": [
       "162397.0"
      ]
     },
     "execution_count": 61,
     "metadata": {},
     "output_type": "execute_result"
    }
   ],
   "source": [
    "df3.Income.max()"
   ]
  },
  {
   "cell_type": "code",
   "execution_count": 62,
   "metadata": {
    "ExecuteTime": {
     "end_time": "2022-02-19T22:28:44.442209Z",
     "start_time": "2022-02-19T22:28:44.433996Z"
    },
    "executionInfo": {
     "elapsed": 57,
     "status": "ok",
     "timestamp": 1642797186189,
     "user": {
      "displayName": "Marcos Poleto",
      "photoUrl": "https://lh3.googleusercontent.com/a/default-user=s64",
      "userId": "02025685955293709320"
     },
     "user_tz": 180
    },
    "id": "A5RQikIbptqJ"
   },
   "outputs": [],
   "source": [
    "df3 = df3.loc[df3[\"YearBirth\"] > \"01-01-1940\", :]"
   ]
  },
  {
   "cell_type": "code",
   "execution_count": 63,
   "metadata": {
    "ExecuteTime": {
     "end_time": "2022-02-19T22:28:44.603385Z",
     "start_time": "2022-02-19T22:28:44.598242Z"
    },
    "colab": {
     "base_uri": "https://localhost:8080/"
    },
    "executionInfo": {
     "elapsed": 59,
     "status": "ok",
     "timestamp": 1642797186192,
     "user": {
      "displayName": "Marcos Poleto",
      "photoUrl": "https://lh3.googleusercontent.com/a/default-user=s64",
      "userId": "02025685955293709320"
     },
     "user_tz": 180
    },
    "id": "ox_2mHP-uIpR",
    "outputId": "2a2a040a-c576-4486-c3be-f73d968f0cfd"
   },
   "outputs": [
    {
     "data": {
      "text/plain": [
       "(2211, 27)"
      ]
     },
     "execution_count": 63,
     "metadata": {},
     "output_type": "execute_result"
    }
   ],
   "source": [
    "df3.shape"
   ]
  },
  {
   "cell_type": "markdown",
   "metadata": {
    "id": "XKSNgzWIueLr"
   },
   "source": [
    "# 5.0 Feature Engineering"
   ]
  },
  {
   "cell_type": "code",
   "execution_count": 64,
   "metadata": {
    "ExecuteTime": {
     "end_time": "2022-02-19T22:28:44.913841Z",
     "start_time": "2022-02-19T22:28:44.909218Z"
    },
    "executionInfo": {
     "elapsed": 56,
     "status": "ok",
     "timestamp": 1642797186193,
     "user": {
      "displayName": "Marcos Poleto",
      "photoUrl": "https://lh3.googleusercontent.com/a/default-user=s64",
      "userId": "02025685955293709320"
     },
     "user_tz": 180
    },
    "id": "OGOrw-JcOnwm"
   },
   "outputs": [],
   "source": [
    "df4 = df3.copy()"
   ]
  },
  {
   "cell_type": "code",
   "execution_count": 65,
   "metadata": {
    "ExecuteTime": {
     "end_time": "2022-02-19T22:28:46.450815Z",
     "start_time": "2022-02-19T22:28:46.417264Z"
    },
    "colab": {
     "base_uri": "https://localhost:8080/",
     "height": 357
    },
    "executionInfo": {
     "elapsed": 55,
     "status": "ok",
     "timestamp": 1642797186194,
     "user": {
      "displayName": "Marcos Poleto",
      "photoUrl": "https://lh3.googleusercontent.com/a/default-user=s64",
      "userId": "02025685955293709320"
     },
     "user_tz": 180
    },
    "id": "obI-vPz0uN_h",
    "outputId": "ab3fd37c-570b-41b7-ff16-1f76cd483edd"
   },
   "outputs": [
    {
     "data": {
      "text/html": [
       "<div>\n",
       "<style scoped>\n",
       "    .dataframe tbody tr th:only-of-type {\n",
       "        vertical-align: middle;\n",
       "    }\n",
       "\n",
       "    .dataframe tbody tr th {\n",
       "        vertical-align: top;\n",
       "    }\n",
       "\n",
       "    .dataframe thead th {\n",
       "        text-align: right;\n",
       "    }\n",
       "</style>\n",
       "<table border=\"1\" class=\"dataframe\">\n",
       "  <thead>\n",
       "    <tr style=\"text-align: right;\">\n",
       "      <th></th>\n",
       "      <th>ID</th>\n",
       "      <th>YearBirth</th>\n",
       "      <th>Education</th>\n",
       "      <th>MaritalStatus</th>\n",
       "      <th>Income</th>\n",
       "      <th>Kidhome</th>\n",
       "      <th>Teenhome</th>\n",
       "      <th>CustomerDate</th>\n",
       "      <th>Recency</th>\n",
       "      <th>MntWines</th>\n",
       "      <th>MntFruits</th>\n",
       "      <th>MntMeatProducts</th>\n",
       "      <th>MntFishProducts</th>\n",
       "      <th>MntSweetProducts</th>\n",
       "      <th>MntGoldProds</th>\n",
       "      <th>NumDealsPurchases</th>\n",
       "      <th>NumWebPurchases</th>\n",
       "      <th>NumCatalogPurchases</th>\n",
       "      <th>NumStorePurchases</th>\n",
       "      <th>NumWebVisitsMonth</th>\n",
       "      <th>AcceptedCmp3</th>\n",
       "      <th>AcceptedCmp4</th>\n",
       "      <th>AcceptedCmp5</th>\n",
       "      <th>AcceptedCmp1</th>\n",
       "      <th>AcceptedCmp2</th>\n",
       "      <th>Complain</th>\n",
       "      <th>AcceptedCmpFnl</th>\n",
       "    </tr>\n",
       "  </thead>\n",
       "  <tbody>\n",
       "    <tr>\n",
       "      <th>0</th>\n",
       "      <td>5524</td>\n",
       "      <td>1957-01-01</td>\n",
       "      <td>Graduation</td>\n",
       "      <td>Single</td>\n",
       "      <td>58138.0</td>\n",
       "      <td>0</td>\n",
       "      <td>0</td>\n",
       "      <td>2012-09-04</td>\n",
       "      <td>58</td>\n",
       "      <td>635</td>\n",
       "      <td>88</td>\n",
       "      <td>546</td>\n",
       "      <td>172</td>\n",
       "      <td>88</td>\n",
       "      <td>88</td>\n",
       "      <td>3</td>\n",
       "      <td>8</td>\n",
       "      <td>10</td>\n",
       "      <td>4</td>\n",
       "      <td>7</td>\n",
       "      <td>0</td>\n",
       "      <td>0</td>\n",
       "      <td>0</td>\n",
       "      <td>0</td>\n",
       "      <td>0</td>\n",
       "      <td>0</td>\n",
       "      <td>1</td>\n",
       "    </tr>\n",
       "    <tr>\n",
       "      <th>1</th>\n",
       "      <td>2174</td>\n",
       "      <td>1954-01-01</td>\n",
       "      <td>Graduation</td>\n",
       "      <td>Single</td>\n",
       "      <td>46344.0</td>\n",
       "      <td>1</td>\n",
       "      <td>1</td>\n",
       "      <td>2014-03-08</td>\n",
       "      <td>38</td>\n",
       "      <td>11</td>\n",
       "      <td>1</td>\n",
       "      <td>6</td>\n",
       "      <td>2</td>\n",
       "      <td>1</td>\n",
       "      <td>6</td>\n",
       "      <td>2</td>\n",
       "      <td>1</td>\n",
       "      <td>1</td>\n",
       "      <td>2</td>\n",
       "      <td>5</td>\n",
       "      <td>0</td>\n",
       "      <td>0</td>\n",
       "      <td>0</td>\n",
       "      <td>0</td>\n",
       "      <td>0</td>\n",
       "      <td>0</td>\n",
       "      <td>0</td>\n",
       "    </tr>\n",
       "    <tr>\n",
       "      <th>2</th>\n",
       "      <td>4141</td>\n",
       "      <td>1965-01-01</td>\n",
       "      <td>Graduation</td>\n",
       "      <td>Together</td>\n",
       "      <td>71613.0</td>\n",
       "      <td>0</td>\n",
       "      <td>0</td>\n",
       "      <td>2013-08-21</td>\n",
       "      <td>26</td>\n",
       "      <td>426</td>\n",
       "      <td>49</td>\n",
       "      <td>127</td>\n",
       "      <td>111</td>\n",
       "      <td>21</td>\n",
       "      <td>42</td>\n",
       "      <td>1</td>\n",
       "      <td>8</td>\n",
       "      <td>2</td>\n",
       "      <td>10</td>\n",
       "      <td>4</td>\n",
       "      <td>0</td>\n",
       "      <td>0</td>\n",
       "      <td>0</td>\n",
       "      <td>0</td>\n",
       "      <td>0</td>\n",
       "      <td>0</td>\n",
       "      <td>0</td>\n",
       "    </tr>\n",
       "    <tr>\n",
       "      <th>3</th>\n",
       "      <td>6182</td>\n",
       "      <td>1984-01-01</td>\n",
       "      <td>Graduation</td>\n",
       "      <td>Together</td>\n",
       "      <td>26646.0</td>\n",
       "      <td>1</td>\n",
       "      <td>0</td>\n",
       "      <td>2014-02-10</td>\n",
       "      <td>26</td>\n",
       "      <td>11</td>\n",
       "      <td>4</td>\n",
       "      <td>20</td>\n",
       "      <td>10</td>\n",
       "      <td>3</td>\n",
       "      <td>5</td>\n",
       "      <td>2</td>\n",
       "      <td>2</td>\n",
       "      <td>0</td>\n",
       "      <td>4</td>\n",
       "      <td>6</td>\n",
       "      <td>0</td>\n",
       "      <td>0</td>\n",
       "      <td>0</td>\n",
       "      <td>0</td>\n",
       "      <td>0</td>\n",
       "      <td>0</td>\n",
       "      <td>0</td>\n",
       "    </tr>\n",
       "    <tr>\n",
       "      <th>4</th>\n",
       "      <td>5324</td>\n",
       "      <td>1981-01-01</td>\n",
       "      <td>PhD</td>\n",
       "      <td>Married</td>\n",
       "      <td>58293.0</td>\n",
       "      <td>1</td>\n",
       "      <td>0</td>\n",
       "      <td>2014-01-19</td>\n",
       "      <td>94</td>\n",
       "      <td>173</td>\n",
       "      <td>43</td>\n",
       "      <td>118</td>\n",
       "      <td>46</td>\n",
       "      <td>27</td>\n",
       "      <td>15</td>\n",
       "      <td>5</td>\n",
       "      <td>5</td>\n",
       "      <td>3</td>\n",
       "      <td>6</td>\n",
       "      <td>5</td>\n",
       "      <td>0</td>\n",
       "      <td>0</td>\n",
       "      <td>0</td>\n",
       "      <td>0</td>\n",
       "      <td>0</td>\n",
       "      <td>0</td>\n",
       "      <td>0</td>\n",
       "    </tr>\n",
       "  </tbody>\n",
       "</table>\n",
       "</div>"
      ],
      "text/plain": [
       "     ID  YearBirth   Education MaritalStatus   Income  Kidhome  Teenhome CustomerDate  Recency  MntWines  MntFruits  MntMeatProducts  MntFishProducts  MntSweetProducts  MntGoldProds  NumDealsPurchases  NumWebPurchases  NumCatalogPurchases  NumStorePurchases  NumWebVisitsMonth  AcceptedCmp3  AcceptedCmp4  AcceptedCmp5  AcceptedCmp1  AcceptedCmp2  Complain  AcceptedCmpFnl\n",
       "0  5524 1957-01-01  Graduation        Single  58138.0        0         0   2012-09-04       58       635         88              546              172                88            88                  3                8                   10                  4                  7             0             0             0             0             0         0               1\n",
       "1  2174 1954-01-01  Graduation        Single  46344.0        1         1   2014-03-08       38        11          1                6                2                 1             6                  2                1                    1                  2                  5             0             0             0             0             0         0               0\n",
       "2  4141 1965-01-01  Graduation      Together  71613.0        0         0   2013-08-21       26       426         49              127              111                21            42                  1                8                    2                 10                  4             0             0             0             0             0         0               0\n",
       "3  6182 1984-01-01  Graduation      Together  26646.0        1         0   2014-02-10       26        11          4               20               10                 3             5                  2                2                    0                  4                  6             0             0             0             0             0         0               0\n",
       "4  5324 1981-01-01         PhD       Married  58293.0        1         0   2014-01-19       94       173         43              118               46                27            15                  5                5                    3                  6                  5             0             0             0             0             0         0               0"
      ]
     },
     "execution_count": 65,
     "metadata": {},
     "output_type": "execute_result"
    }
   ],
   "source": [
    "df4.head()"
   ]
  },
  {
   "cell_type": "markdown",
   "metadata": {
    "id": "STKGc34SObgP"
   },
   "source": [
    "## 5.1 Brainstorming for new features"
   ]
  },
  {
   "cell_type": "markdown",
   "metadata": {
    "id": "celR4PWmY7JC"
   },
   "source": [
    "Here I'll just brainstorm for some new features that I can create based on my original ones. These features will not be necessarily used as input to the clustering algorithm, but might bring some interesting insights when exploring the data. I've come up with:\n",
    "\n",
    "* Age when enrolled with the company;\n",
    "* Total number of children in the household (Kidhome + Teenhome)\n",
    "* Are there children in the household? (0 = False, 1 = True)\n",
    "* Total Amount spent;\n",
    "* Percentage of income spent;\n",
    "* Total purchases made (web + store + catalog + deals);\n",
    "* Total enrolled campaigns.\n"
   ]
  },
  {
   "cell_type": "code",
   "execution_count": 66,
   "metadata": {
    "ExecuteTime": {
     "end_time": "2022-02-19T22:28:47.240110Z",
     "start_time": "2022-02-19T22:28:47.233518Z"
    },
    "colab": {
     "base_uri": "https://localhost:8080/"
    },
    "executionInfo": {
     "elapsed": 53,
     "status": "ok",
     "timestamp": 1642797186194,
     "user": {
      "displayName": "Marcos Poleto",
      "photoUrl": "https://lh3.googleusercontent.com/a/default-user=s64",
      "userId": "02025685955293709320"
     },
     "user_tz": 180
    },
    "id": "cog9gmCyd2Ny",
    "outputId": "8eb381f1-0f7d-411e-fa6c-3c832fab4100"
   },
   "outputs": [
    {
     "data": {
      "text/plain": [
       "Index(['ID', 'YearBirth', 'Education', 'MaritalStatus', 'Income', 'Kidhome',\n",
       "       'Teenhome', 'CustomerDate', 'Recency', 'MntWines', 'MntFruits',\n",
       "       'MntMeatProducts', 'MntFishProducts', 'MntSweetProducts',\n",
       "       'MntGoldProds', 'NumDealsPurchases', 'NumWebPurchases',\n",
       "       'NumCatalogPurchases', 'NumStorePurchases', 'NumWebVisitsMonth',\n",
       "       'AcceptedCmp3', 'AcceptedCmp4', 'AcceptedCmp5', 'AcceptedCmp1',\n",
       "       'AcceptedCmp2', 'Complain', 'AcceptedCmpFnl'],\n",
       "      dtype='object')"
      ]
     },
     "execution_count": 66,
     "metadata": {},
     "output_type": "execute_result"
    }
   ],
   "source": [
    "df4.columns"
   ]
  },
  {
   "cell_type": "markdown",
   "metadata": {
    "id": "mfXYUrZXcW3h"
   },
   "source": [
    "## 5.2 Creating new features"
   ]
  },
  {
   "cell_type": "code",
   "execution_count": 67,
   "metadata": {
    "ExecuteTime": {
     "end_time": "2022-02-19T22:28:49.046293Z",
     "start_time": "2022-02-19T22:28:49.018668Z"
    },
    "executionInfo": {
     "elapsed": 50,
     "status": "ok",
     "timestamp": 1642797186196,
     "user": {
      "displayName": "Marcos Poleto",
      "photoUrl": "https://lh3.googleusercontent.com/a/default-user=s64",
      "userId": "02025685955293709320"
     },
     "user_tz": 180
    },
    "id": "7E4tR0touv5d"
   },
   "outputs": [],
   "source": [
    "# Age when enrolled with the company\n",
    "df4[\"AgeEnrolled\"] = df4[\"CustomerDate\"].dt.year - df4[\"YearBirth\"].dt.year\n",
    "\n",
    "# Number of children in the household\n",
    "df4[\"ChildrenHome\"] = df4[\"Kidhome\"] + df4[\"Teenhome\"]\n",
    "\n",
    "# Children in household? \n",
    "df4[\"HaveChildren\"] = df4[\"ChildrenHome\"].apply(lambda x: 0 if x == 0 else 1)\n",
    "\n",
    "# Total Amount Spent\n",
    "df4[\"TotalMnt\"] = df4['MntWines'] + df4['MntFruits'] +df4['MntMeatProducts'] + df4['MntFishProducts'] + df4['MntSweetProducts'] + df4['MntGoldProds']\n",
    "\n",
    "# % of income spent\n",
    "df4[\"PctIncomeSpnt\"] = df4[\"TotalMnt\"] / df4[\"Income\"]\n",
    "\n",
    "# Total Purchases made\n",
    "df4[\"TotalPurchases\"] = df4['NumCatalogPurchases'] + df4['NumStorePurchases'] + df4['NumWebPurchases'] + df4[\"NumDealsPurchases\"]\n",
    "\n",
    "# Total Enrolled Campaigns\n",
    "df4[\"TotalCmp\"] = df4['AcceptedCmp1'] + df4['AcceptedCmp2'] + df4['AcceptedCmp3'] + df4['AcceptedCmp4'] + df4['AcceptedCmp5'] + df4['AcceptedCmpFnl']\n"
   ]
  },
  {
   "cell_type": "code",
   "execution_count": 68,
   "metadata": {
    "ExecuteTime": {
     "end_time": "2022-02-19T22:28:49.647130Z",
     "start_time": "2022-02-19T22:28:49.609452Z"
    },
    "colab": {
     "base_uri": "https://localhost:8080/",
     "height": 357
    },
    "executionInfo": {
     "elapsed": 330,
     "status": "ok",
     "timestamp": 1642797520004,
     "user": {
      "displayName": "Marcos Poleto",
      "photoUrl": "https://lh3.googleusercontent.com/a/default-user=s64",
      "userId": "02025685955293709320"
     },
     "user_tz": 180
    },
    "id": "huvKGurRqslk",
    "outputId": "b68c6cbf-cf0b-46e2-b844-b13a87277c4d",
    "scrolled": true
   },
   "outputs": [
    {
     "data": {
      "text/html": [
       "<div>\n",
       "<style scoped>\n",
       "    .dataframe tbody tr th:only-of-type {\n",
       "        vertical-align: middle;\n",
       "    }\n",
       "\n",
       "    .dataframe tbody tr th {\n",
       "        vertical-align: top;\n",
       "    }\n",
       "\n",
       "    .dataframe thead th {\n",
       "        text-align: right;\n",
       "    }\n",
       "</style>\n",
       "<table border=\"1\" class=\"dataframe\">\n",
       "  <thead>\n",
       "    <tr style=\"text-align: right;\">\n",
       "      <th></th>\n",
       "      <th>ID</th>\n",
       "      <th>YearBirth</th>\n",
       "      <th>Education</th>\n",
       "      <th>MaritalStatus</th>\n",
       "      <th>Income</th>\n",
       "      <th>Kidhome</th>\n",
       "      <th>Teenhome</th>\n",
       "      <th>CustomerDate</th>\n",
       "      <th>Recency</th>\n",
       "      <th>MntWines</th>\n",
       "      <th>MntFruits</th>\n",
       "      <th>MntMeatProducts</th>\n",
       "      <th>MntFishProducts</th>\n",
       "      <th>MntSweetProducts</th>\n",
       "      <th>MntGoldProds</th>\n",
       "      <th>NumDealsPurchases</th>\n",
       "      <th>NumWebPurchases</th>\n",
       "      <th>NumCatalogPurchases</th>\n",
       "      <th>NumStorePurchases</th>\n",
       "      <th>NumWebVisitsMonth</th>\n",
       "      <th>AcceptedCmp3</th>\n",
       "      <th>AcceptedCmp4</th>\n",
       "      <th>AcceptedCmp5</th>\n",
       "      <th>AcceptedCmp1</th>\n",
       "      <th>AcceptedCmp2</th>\n",
       "      <th>Complain</th>\n",
       "      <th>AcceptedCmpFnl</th>\n",
       "      <th>AgeEnrolled</th>\n",
       "      <th>ChildrenHome</th>\n",
       "      <th>HaveChildren</th>\n",
       "      <th>TotalMnt</th>\n",
       "      <th>PctIncomeSpnt</th>\n",
       "      <th>TotalPurchases</th>\n",
       "      <th>TotalCmp</th>\n",
       "    </tr>\n",
       "  </thead>\n",
       "  <tbody>\n",
       "    <tr>\n",
       "      <th>0</th>\n",
       "      <td>5524</td>\n",
       "      <td>1957-01-01</td>\n",
       "      <td>Graduation</td>\n",
       "      <td>Single</td>\n",
       "      <td>58138.0</td>\n",
       "      <td>0</td>\n",
       "      <td>0</td>\n",
       "      <td>2012-09-04</td>\n",
       "      <td>58</td>\n",
       "      <td>635</td>\n",
       "      <td>88</td>\n",
       "      <td>546</td>\n",
       "      <td>172</td>\n",
       "      <td>88</td>\n",
       "      <td>88</td>\n",
       "      <td>3</td>\n",
       "      <td>8</td>\n",
       "      <td>10</td>\n",
       "      <td>4</td>\n",
       "      <td>7</td>\n",
       "      <td>0</td>\n",
       "      <td>0</td>\n",
       "      <td>0</td>\n",
       "      <td>0</td>\n",
       "      <td>0</td>\n",
       "      <td>0</td>\n",
       "      <td>1</td>\n",
       "      <td>55</td>\n",
       "      <td>0</td>\n",
       "      <td>0</td>\n",
       "      <td>1617</td>\n",
       "      <td>0.027813</td>\n",
       "      <td>25</td>\n",
       "      <td>1</td>\n",
       "    </tr>\n",
       "    <tr>\n",
       "      <th>1</th>\n",
       "      <td>2174</td>\n",
       "      <td>1954-01-01</td>\n",
       "      <td>Graduation</td>\n",
       "      <td>Single</td>\n",
       "      <td>46344.0</td>\n",
       "      <td>1</td>\n",
       "      <td>1</td>\n",
       "      <td>2014-03-08</td>\n",
       "      <td>38</td>\n",
       "      <td>11</td>\n",
       "      <td>1</td>\n",
       "      <td>6</td>\n",
       "      <td>2</td>\n",
       "      <td>1</td>\n",
       "      <td>6</td>\n",
       "      <td>2</td>\n",
       "      <td>1</td>\n",
       "      <td>1</td>\n",
       "      <td>2</td>\n",
       "      <td>5</td>\n",
       "      <td>0</td>\n",
       "      <td>0</td>\n",
       "      <td>0</td>\n",
       "      <td>0</td>\n",
       "      <td>0</td>\n",
       "      <td>0</td>\n",
       "      <td>0</td>\n",
       "      <td>60</td>\n",
       "      <td>2</td>\n",
       "      <td>1</td>\n",
       "      <td>27</td>\n",
       "      <td>0.000583</td>\n",
       "      <td>6</td>\n",
       "      <td>0</td>\n",
       "    </tr>\n",
       "    <tr>\n",
       "      <th>2</th>\n",
       "      <td>4141</td>\n",
       "      <td>1965-01-01</td>\n",
       "      <td>Graduation</td>\n",
       "      <td>Together</td>\n",
       "      <td>71613.0</td>\n",
       "      <td>0</td>\n",
       "      <td>0</td>\n",
       "      <td>2013-08-21</td>\n",
       "      <td>26</td>\n",
       "      <td>426</td>\n",
       "      <td>49</td>\n",
       "      <td>127</td>\n",
       "      <td>111</td>\n",
       "      <td>21</td>\n",
       "      <td>42</td>\n",
       "      <td>1</td>\n",
       "      <td>8</td>\n",
       "      <td>2</td>\n",
       "      <td>10</td>\n",
       "      <td>4</td>\n",
       "      <td>0</td>\n",
       "      <td>0</td>\n",
       "      <td>0</td>\n",
       "      <td>0</td>\n",
       "      <td>0</td>\n",
       "      <td>0</td>\n",
       "      <td>0</td>\n",
       "      <td>48</td>\n",
       "      <td>0</td>\n",
       "      <td>0</td>\n",
       "      <td>776</td>\n",
       "      <td>0.010836</td>\n",
       "      <td>21</td>\n",
       "      <td>0</td>\n",
       "    </tr>\n",
       "    <tr>\n",
       "      <th>3</th>\n",
       "      <td>6182</td>\n",
       "      <td>1984-01-01</td>\n",
       "      <td>Graduation</td>\n",
       "      <td>Together</td>\n",
       "      <td>26646.0</td>\n",
       "      <td>1</td>\n",
       "      <td>0</td>\n",
       "      <td>2014-02-10</td>\n",
       "      <td>26</td>\n",
       "      <td>11</td>\n",
       "      <td>4</td>\n",
       "      <td>20</td>\n",
       "      <td>10</td>\n",
       "      <td>3</td>\n",
       "      <td>5</td>\n",
       "      <td>2</td>\n",
       "      <td>2</td>\n",
       "      <td>0</td>\n",
       "      <td>4</td>\n",
       "      <td>6</td>\n",
       "      <td>0</td>\n",
       "      <td>0</td>\n",
       "      <td>0</td>\n",
       "      <td>0</td>\n",
       "      <td>0</td>\n",
       "      <td>0</td>\n",
       "      <td>0</td>\n",
       "      <td>30</td>\n",
       "      <td>1</td>\n",
       "      <td>1</td>\n",
       "      <td>53</td>\n",
       "      <td>0.001989</td>\n",
       "      <td>8</td>\n",
       "      <td>0</td>\n",
       "    </tr>\n",
       "    <tr>\n",
       "      <th>4</th>\n",
       "      <td>5324</td>\n",
       "      <td>1981-01-01</td>\n",
       "      <td>PhD</td>\n",
       "      <td>Married</td>\n",
       "      <td>58293.0</td>\n",
       "      <td>1</td>\n",
       "      <td>0</td>\n",
       "      <td>2014-01-19</td>\n",
       "      <td>94</td>\n",
       "      <td>173</td>\n",
       "      <td>43</td>\n",
       "      <td>118</td>\n",
       "      <td>46</td>\n",
       "      <td>27</td>\n",
       "      <td>15</td>\n",
       "      <td>5</td>\n",
       "      <td>5</td>\n",
       "      <td>3</td>\n",
       "      <td>6</td>\n",
       "      <td>5</td>\n",
       "      <td>0</td>\n",
       "      <td>0</td>\n",
       "      <td>0</td>\n",
       "      <td>0</td>\n",
       "      <td>0</td>\n",
       "      <td>0</td>\n",
       "      <td>0</td>\n",
       "      <td>33</td>\n",
       "      <td>1</td>\n",
       "      <td>1</td>\n",
       "      <td>422</td>\n",
       "      <td>0.007239</td>\n",
       "      <td>19</td>\n",
       "      <td>0</td>\n",
       "    </tr>\n",
       "  </tbody>\n",
       "</table>\n",
       "</div>"
      ],
      "text/plain": [
       "     ID  YearBirth   Education MaritalStatus   Income  Kidhome  Teenhome CustomerDate  Recency  MntWines  MntFruits  MntMeatProducts  MntFishProducts  MntSweetProducts  MntGoldProds  NumDealsPurchases  NumWebPurchases  NumCatalogPurchases  NumStorePurchases  NumWebVisitsMonth  AcceptedCmp3  AcceptedCmp4  AcceptedCmp5  AcceptedCmp1  AcceptedCmp2  Complain  AcceptedCmpFnl  AgeEnrolled  ChildrenHome  HaveChildren  TotalMnt  PctIncomeSpnt  TotalPurchases  TotalCmp\n",
       "0  5524 1957-01-01  Graduation        Single  58138.0        0         0   2012-09-04       58       635         88              546              172                88            88                  3                8                   10                  4                  7             0             0             0             0             0         0               1           55             0             0      1617       0.027813              25         1\n",
       "1  2174 1954-01-01  Graduation        Single  46344.0        1         1   2014-03-08       38        11          1                6                2                 1             6                  2                1                    1                  2                  5             0             0             0             0             0         0               0           60             2             1        27       0.000583               6         0\n",
       "2  4141 1965-01-01  Graduation      Together  71613.0        0         0   2013-08-21       26       426         49              127              111                21            42                  1                8                    2                 10                  4             0             0             0             0             0         0               0           48             0             0       776       0.010836              21         0\n",
       "3  6182 1984-01-01  Graduation      Together  26646.0        1         0   2014-02-10       26        11          4               20               10                 3             5                  2                2                    0                  4                  6             0             0             0             0             0         0               0           30             1             1        53       0.001989               8         0\n",
       "4  5324 1981-01-01         PhD       Married  58293.0        1         0   2014-01-19       94       173         43              118               46                27            15                  5                5                    3                  6                  5             0             0             0             0             0         0               0           33             1             1       422       0.007239              19         0"
      ]
     },
     "execution_count": 68,
     "metadata": {},
     "output_type": "execute_result"
    }
   ],
   "source": [
    "df4.head()"
   ]
  },
  {
   "cell_type": "markdown",
   "metadata": {
    "id": "_mx7Am0a6cuS"
   },
   "source": [
    "## 5.3 Feature Selection "
   ]
  },
  {
   "cell_type": "markdown",
   "metadata": {
    "id": "2AOnt73f62F6"
   },
   "source": [
    "Since we created new collumns based on the original dataset attributes, we'll be droping some of these original columns. The idea is to select only attributes that are business related (such as purchases, amountspent, deals, etc) "
   ]
  },
  {
   "cell_type": "code",
   "execution_count": 69,
   "metadata": {
    "ExecuteTime": {
     "end_time": "2022-02-19T22:29:20.658968Z",
     "start_time": "2022-02-19T22:29:20.650560Z"
    },
    "colab": {
     "background_save": true
    },
    "executionInfo": {
     "elapsed": 252,
     "status": "ok",
     "timestamp": 1642797584799,
     "user": {
      "displayName": "Marcos Poleto",
      "photoUrl": "https://lh3.googleusercontent.com/a/default-user=s64",
      "userId": "02025685955293709320"
     },
     "user_tz": 180
    },
    "id": "x9_nn1Pd3vwq"
   },
   "outputs": [],
   "source": [
    "X = df4[[\"Recency\", \"TotalMnt\", \"TotalPurchases\", \"TotalCmp\", \"NumWebVisitsMonth\"]]"
   ]
  },
  {
   "cell_type": "code",
   "execution_count": 71,
   "metadata": {
    "ExecuteTime": {
     "end_time": "2022-02-19T22:31:02.463266Z",
     "start_time": "2022-02-19T22:31:02.452392Z"
    },
    "colab": {
     "background_save": true,
     "base_uri": "https://localhost:8080/"
    },
    "executionInfo": {
     "elapsed": 5,
     "status": "ok",
     "timestamp": 1642797585838,
     "user": {
      "displayName": "Marcos Poleto",
      "photoUrl": "https://lh3.googleusercontent.com/a/default-user=s64",
      "userId": "02025685955293709320"
     },
     "user_tz": 180
    },
    "id": "VDhqnY4jWt-v",
    "scrolled": true
   },
   "outputs": [
    {
     "data": {
      "text/plain": [
       "0    1607\n",
       "1     368\n",
       "2     139\n",
       "3      51\n",
       "4      36\n",
       "5      10\n",
       "Name: TotalCmp, dtype: int64"
      ]
     },
     "execution_count": 71,
     "metadata": {},
     "output_type": "execute_result"
    }
   ],
   "source": [
    "X.TotalCmp.value_counts()"
   ]
  },
  {
   "cell_type": "code",
   "execution_count": 72,
   "metadata": {
    "ExecuteTime": {
     "end_time": "2022-02-19T22:31:04.394383Z",
     "start_time": "2022-02-19T22:31:04.381804Z"
    },
    "colab": {
     "background_save": true,
     "base_uri": "https://localhost:8080/",
     "height": 206
    },
    "executionInfo": {
     "elapsed": 10,
     "status": "ok",
     "timestamp": 1642797586935,
     "user": {
      "displayName": "Marcos Poleto",
      "photoUrl": "https://lh3.googleusercontent.com/a/default-user=s64",
      "userId": "02025685955293709320"
     },
     "user_tz": 180
    },
    "id": "f3q30ByF-kVF"
   },
   "outputs": [
    {
     "data": {
      "text/html": [
       "<div>\n",
       "<style scoped>\n",
       "    .dataframe tbody tr th:only-of-type {\n",
       "        vertical-align: middle;\n",
       "    }\n",
       "\n",
       "    .dataframe tbody tr th {\n",
       "        vertical-align: top;\n",
       "    }\n",
       "\n",
       "    .dataframe thead th {\n",
       "        text-align: right;\n",
       "    }\n",
       "</style>\n",
       "<table border=\"1\" class=\"dataframe\">\n",
       "  <thead>\n",
       "    <tr style=\"text-align: right;\">\n",
       "      <th></th>\n",
       "      <th>Recency</th>\n",
       "      <th>TotalMnt</th>\n",
       "      <th>TotalPurchases</th>\n",
       "      <th>TotalCmp</th>\n",
       "      <th>NumWebVisitsMonth</th>\n",
       "    </tr>\n",
       "  </thead>\n",
       "  <tbody>\n",
       "    <tr>\n",
       "      <th>0</th>\n",
       "      <td>58</td>\n",
       "      <td>1617</td>\n",
       "      <td>25</td>\n",
       "      <td>1</td>\n",
       "      <td>7</td>\n",
       "    </tr>\n",
       "    <tr>\n",
       "      <th>1</th>\n",
       "      <td>38</td>\n",
       "      <td>27</td>\n",
       "      <td>6</td>\n",
       "      <td>0</td>\n",
       "      <td>5</td>\n",
       "    </tr>\n",
       "    <tr>\n",
       "      <th>2</th>\n",
       "      <td>26</td>\n",
       "      <td>776</td>\n",
       "      <td>21</td>\n",
       "      <td>0</td>\n",
       "      <td>4</td>\n",
       "    </tr>\n",
       "    <tr>\n",
       "      <th>3</th>\n",
       "      <td>26</td>\n",
       "      <td>53</td>\n",
       "      <td>8</td>\n",
       "      <td>0</td>\n",
       "      <td>6</td>\n",
       "    </tr>\n",
       "    <tr>\n",
       "      <th>4</th>\n",
       "      <td>94</td>\n",
       "      <td>422</td>\n",
       "      <td>19</td>\n",
       "      <td>0</td>\n",
       "      <td>5</td>\n",
       "    </tr>\n",
       "  </tbody>\n",
       "</table>\n",
       "</div>"
      ],
      "text/plain": [
       "   Recency  TotalMnt  TotalPurchases  TotalCmp  NumWebVisitsMonth\n",
       "0       58      1617              25         1                  7\n",
       "1       38        27               6         0                  5\n",
       "2       26       776              21         0                  4\n",
       "3       26        53               8         0                  6\n",
       "4       94       422              19         0                  5"
      ]
     },
     "execution_count": 72,
     "metadata": {},
     "output_type": "execute_result"
    }
   ],
   "source": [
    "X.head()"
   ]
  },
  {
   "cell_type": "markdown",
   "metadata": {},
   "source": [
    "## 6.0 Recasling Data"
   ]
  },
  {
   "cell_type": "code",
   "execution_count": 73,
   "metadata": {
    "ExecuteTime": {
     "end_time": "2022-02-19T22:31:07.393878Z",
     "start_time": "2022-02-19T22:31:07.293663Z"
    },
    "colab": {
     "base_uri": "https://localhost:8080/",
     "height": 485
    },
    "executionInfo": {
     "elapsed": 426,
     "status": "error",
     "timestamp": 1642797896365,
     "user": {
      "displayName": "Marcos Poleto",
      "photoUrl": "https://lh3.googleusercontent.com/a/default-user=s64",
      "userId": "02025685955293709320"
     },
     "user_tz": 180
    },
    "id": "YMMHO__f-lWv",
    "outputId": "06a1c984-174e-440f-9ec1-44f323d6b345"
   },
   "outputs": [
    {
     "name": "stderr",
     "output_type": "stream",
     "text": [
      "/tmp/ipykernel_44608/339910651.py:3: SettingWithCopyWarning: \n",
      "A value is trying to be set on a copy of a slice from a DataFrame.\n",
      "Try using .loc[row_indexer,col_indexer] = value instead\n",
      "\n",
      "See the caveats in the documentation: https://pandas.pydata.org/pandas-docs/stable/user_guide/indexing.html#returning-a-view-versus-a-copy\n",
      "  X[\"Recency\"] = mm.fit_transform(X[[\"Recency\"]])\n",
      "/tmp/ipykernel_44608/339910651.py:4: SettingWithCopyWarning: \n",
      "A value is trying to be set on a copy of a slice from a DataFrame.\n",
      "Try using .loc[row_indexer,col_indexer] = value instead\n",
      "\n",
      "See the caveats in the documentation: https://pandas.pydata.org/pandas-docs/stable/user_guide/indexing.html#returning-a-view-versus-a-copy\n",
      "  X[\"NumWebVisitsMonth\"] = mm.fit_transform(X[[\"NumWebVisitsMonth\"]])\n",
      "/tmp/ipykernel_44608/339910651.py:6: SettingWithCopyWarning: \n",
      "A value is trying to be set on a copy of a slice from a DataFrame.\n",
      "Try using .loc[row_indexer,col_indexer] = value instead\n",
      "\n",
      "See the caveats in the documentation: https://pandas.pydata.org/pandas-docs/stable/user_guide/indexing.html#returning-a-view-versus-a-copy\n",
      "  X[\"TotalMnt\"] = mm.fit_transform(X[[\"TotalMnt\"]])\n",
      "/tmp/ipykernel_44608/339910651.py:7: SettingWithCopyWarning: \n",
      "A value is trying to be set on a copy of a slice from a DataFrame.\n",
      "Try using .loc[row_indexer,col_indexer] = value instead\n",
      "\n",
      "See the caveats in the documentation: https://pandas.pydata.org/pandas-docs/stable/user_guide/indexing.html#returning-a-view-versus-a-copy\n",
      "  X[\"TotalPurchases\"] = mm.fit_transform(X[[\"TotalPurchases\"]])\n",
      "/tmp/ipykernel_44608/339910651.py:8: SettingWithCopyWarning: \n",
      "A value is trying to be set on a copy of a slice from a DataFrame.\n",
      "Try using .loc[row_indexer,col_indexer] = value instead\n",
      "\n",
      "See the caveats in the documentation: https://pandas.pydata.org/pandas-docs/stable/user_guide/indexing.html#returning-a-view-versus-a-copy\n",
      "  X[\"TotalCmp\"] = mm.fit_transform(X[[\"TotalCmp\"]])\n"
     ]
    }
   ],
   "source": [
    "mm = pp.MinMaxScaler()\n",
    "\n",
    "X[\"Recency\"] = mm.fit_transform(X[[\"Recency\"]])\n",
    "X[\"NumWebVisitsMonth\"] = mm.fit_transform(X[[\"NumWebVisitsMonth\"]])\n",
    "#X[\"Complain\"] = ss.fit_transform(X[[\"Complain\"]])\n",
    "X[\"TotalMnt\"] = mm.fit_transform(X[[\"TotalMnt\"]])\n",
    "X[\"TotalPurchases\"] = mm.fit_transform(X[[\"TotalPurchases\"]])\n",
    "X[\"TotalCmp\"] = mm.fit_transform(X[[\"TotalCmp\"]])"
   ]
  },
  {
   "cell_type": "code",
   "execution_count": 74,
   "metadata": {
    "ExecuteTime": {
     "end_time": "2022-02-19T22:31:46.527256Z",
     "start_time": "2022-02-19T22:31:46.507225Z"
    },
    "colab": {
     "base_uri": "https://localhost:8080/",
     "height": 206
    },
    "executionInfo": {
     "elapsed": 15,
     "status": "ok",
     "timestamp": 1642797603292,
     "user": {
      "displayName": "Marcos Poleto",
      "photoUrl": "https://lh3.googleusercontent.com/a/default-user=s64",
      "userId": "02025685955293709320"
     },
     "user_tz": 180
    },
    "id": "rps_dkzMAZLS",
    "outputId": "a99870c4-384d-4943-8448-c9d3b6b8264a"
   },
   "outputs": [
    {
     "data": {
      "text/html": [
       "<div>\n",
       "<style scoped>\n",
       "    .dataframe tbody tr th:only-of-type {\n",
       "        vertical-align: middle;\n",
       "    }\n",
       "\n",
       "    .dataframe tbody tr th {\n",
       "        vertical-align: top;\n",
       "    }\n",
       "\n",
       "    .dataframe thead th {\n",
       "        text-align: right;\n",
       "    }\n",
       "</style>\n",
       "<table border=\"1\" class=\"dataframe\">\n",
       "  <thead>\n",
       "    <tr style=\"text-align: right;\">\n",
       "      <th></th>\n",
       "      <th>Recency</th>\n",
       "      <th>TotalMnt</th>\n",
       "      <th>TotalPurchases</th>\n",
       "      <th>TotalCmp</th>\n",
       "      <th>NumWebVisitsMonth</th>\n",
       "    </tr>\n",
       "  </thead>\n",
       "  <tbody>\n",
       "    <tr>\n",
       "      <th>0</th>\n",
       "      <td>0.585859</td>\n",
       "      <td>0.639683</td>\n",
       "      <td>0.568182</td>\n",
       "      <td>0.2</td>\n",
       "      <td>0.35</td>\n",
       "    </tr>\n",
       "    <tr>\n",
       "      <th>1</th>\n",
       "      <td>0.383838</td>\n",
       "      <td>0.008730</td>\n",
       "      <td>0.136364</td>\n",
       "      <td>0.0</td>\n",
       "      <td>0.25</td>\n",
       "    </tr>\n",
       "    <tr>\n",
       "      <th>2</th>\n",
       "      <td>0.262626</td>\n",
       "      <td>0.305952</td>\n",
       "      <td>0.477273</td>\n",
       "      <td>0.0</td>\n",
       "      <td>0.20</td>\n",
       "    </tr>\n",
       "    <tr>\n",
       "      <th>3</th>\n",
       "      <td>0.262626</td>\n",
       "      <td>0.019048</td>\n",
       "      <td>0.181818</td>\n",
       "      <td>0.0</td>\n",
       "      <td>0.30</td>\n",
       "    </tr>\n",
       "    <tr>\n",
       "      <th>4</th>\n",
       "      <td>0.949495</td>\n",
       "      <td>0.165476</td>\n",
       "      <td>0.431818</td>\n",
       "      <td>0.0</td>\n",
       "      <td>0.25</td>\n",
       "    </tr>\n",
       "  </tbody>\n",
       "</table>\n",
       "</div>"
      ],
      "text/plain": [
       "    Recency  TotalMnt  TotalPurchases  TotalCmp  NumWebVisitsMonth\n",
       "0  0.585859  0.639683        0.568182       0.2               0.35\n",
       "1  0.383838  0.008730        0.136364       0.0               0.25\n",
       "2  0.262626  0.305952        0.477273       0.0               0.20\n",
       "3  0.262626  0.019048        0.181818       0.0               0.30\n",
       "4  0.949495  0.165476        0.431818       0.0               0.25"
      ]
     },
     "execution_count": 74,
     "metadata": {},
     "output_type": "execute_result"
    }
   ],
   "source": [
    "X.head()"
   ]
  },
  {
   "cell_type": "markdown",
   "metadata": {},
   "source": [
    "# Clustering with K-Means"
   ]
  },
  {
   "cell_type": "code",
   "execution_count": 77,
   "metadata": {
    "ExecuteTime": {
     "end_time": "2022-02-19T22:32:45.775882Z",
     "start_time": "2022-02-19T22:32:37.577093Z"
    },
    "colab": {
     "base_uri": "https://localhost:8080/",
     "height": 720
    },
    "executionInfo": {
     "elapsed": 4101,
     "status": "ok",
     "timestamp": 1642797608814,
     "user": {
      "displayName": "Marcos Poleto",
      "photoUrl": "https://lh3.googleusercontent.com/a/default-user=s64",
      "userId": "02025685955293709320"
     },
     "user_tz": 180
    },
    "id": "49b-RKVCCkdu",
    "outputId": "cc2a3fae-b9d8-4c73-d144-81b3ff688110"
   },
   "outputs": [
    {
     "data": {
      "text/plain": [
       "<AxesSubplot:>"
      ]
     },
     "execution_count": 77,
     "metadata": {},
     "output_type": "execute_result"
    },
    {
     "data": {
      "image/png": "[encoded data removed]",
      "text/plain": [
       "<Figure size 1800x864 with 1 Axes>"
      ]
     },
     "metadata": {},
     "output_type": "display_data"
    }
   ],
   "source": [
    "inertia = []\n",
    "clusters = list(range(1, 8))\n",
    "\n",
    "for i in clusters:\n",
    "  kmeans = c.KMeans(n_clusters=i, init=\"k-means++\", n_init=10, max_iter=300, random_state=42)\n",
    "  kmeans.fit(X)\n",
    "  inertia.append(kmeans.inertia_)\n",
    "\n",
    "sns.lineplot(x=arange(1, 8), y=inertia, markers=True)"
   ]
  },
  {
   "cell_type": "code",
   "execution_count": null,
   "metadata": {
    "executionInfo": {
     "elapsed": 17,
     "status": "ok",
     "timestamp": 1642797190156,
     "user": {
      "displayName": "Marcos Poleto",
      "photoUrl": "https://lh3.googleusercontent.com/a/default-user=s64",
      "userId": "02025685955293709320"
     },
     "user_tz": 180
    },
    "id": "DCP_TPjlC-05"
   },
   "outputs": [],
   "source": []
  }
 ],
 "metadata": {
  "colab": {
   "authorship_tag": "ABX9TyNiG15ObSKe2Xp64y5Edue7",
   "name": "PersonalityAnalysis.ipynb",
   "version": ""
  },
  "kernelspec": {
   "display_name": "Python 3 (ipykernel)",
   "language": "python",
   "name": "python3"
  },
  "language_info": {
   "codemirror_mode": {
    "name": "ipython",
    "version": 3
   },
   "file_extension": ".py",
   "mimetype": "text/x-python",
   "name": "python",
   "nbconvert_exporter": "python",
   "pygments_lexer": "ipython3",
   "version": "3.9.7"
  }
 },
 "nbformat": 4,
 "nbformat_minor": 1
}
